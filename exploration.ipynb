{
 "cells": [
  {
   "cell_type": "markdown",
   "metadata": {},
   "source": [
    "# Exploring Ford GoBike System Data\n",
    "## by Laszlo Rado\n",
    "\n",
    "## Preliminary Wrangling\n",
    "\n",
    "> Briefly introduce your dataset here."
   ]
  },
  {
   "cell_type": "code",
   "execution_count": 1,
   "metadata": {},
   "outputs": [],
   "source": [
    "# import all packages and set plots to be embedded inline\n",
    "import numpy as np\n",
    "import pandas as pd\n",
    "import matplotlib.pyplot as plt\n",
    "import seaborn as sb\n",
    "import os\n",
    "\n",
    "%matplotlib inline"
   ]
  },
  {
   "cell_type": "markdown",
   "metadata": {},
   "source": [
    "> Load in your dataset and describe its properties through the questions below.\n",
    "Try and motivate your exploration goals through this section."
   ]
  },
  {
   "cell_type": "code",
   "execution_count": 2,
   "metadata": {},
   "outputs": [
    {
     "name": "stdout",
     "output_type": "stream",
     "text": [
      "201901-fordgobike-tripdata.csv, (192082, 14)\n",
      "201902-fordgobike-tripdata.csv, (375494, 14)\n",
      "201903-fordgobike-tripdata.csv, (631793, 14)\n",
      "201904-fordgobike-tripdata.csv, (870904, 14)\n",
      "201905-baywheels-tripdata.csv, (1053067, 14)\n"
     ]
    },
    {
     "name": "stderr",
     "output_type": "stream",
     "text": [
      "C:\\ProgramData\\Miniconda3\\lib\\site-packages\\IPython\\core\\interactiveshell.py:3072: DtypeWarning: Columns (14) have mixed types.Specify dtype option on import or set low_memory=False.\n",
      "  interactivity=interactivity, compiler=compiler, result=result)\n"
     ]
    },
    {
     "name": "stdout",
     "output_type": "stream",
     "text": [
      "201906-baywheels-tripdata.csv, (1244839, 15)\n"
     ]
    },
    {
     "name": "stderr",
     "output_type": "stream",
     "text": [
      "C:\\ProgramData\\Miniconda3\\lib\\site-packages\\IPython\\core\\interactiveshell.py:3072: DtypeWarning: Columns (13,14) have mixed types.Specify dtype option on import or set low_memory=False.\n",
      "  interactivity=interactivity, compiler=compiler, result=result)\n"
     ]
    },
    {
     "name": "stdout",
     "output_type": "stream",
     "text": [
      "201907-baywheels-tripdata.csv, (1502941, 15)\n",
      "201908-baywheels-tripdata.csv, (1713504, 15)\n",
      "201909-baywheels-tripdata.csv, (1931490, 15)\n",
      "201910-baywheels-tripdata.csv, (2171385, 15)\n",
      "201911-baywheels-tripdata.csv, (2356881, 15)\n"
     ]
    },
    {
     "name": "stderr",
     "output_type": "stream",
     "text": [
      "C:\\ProgramData\\Miniconda3\\lib\\site-packages\\IPython\\core\\interactiveshell.py:3072: DtypeWarning: Columns (13) have mixed types.Specify dtype option on import or set low_memory=False.\n",
      "  interactivity=interactivity, compiler=compiler, result=result)\n"
     ]
    },
    {
     "name": "stdout",
     "output_type": "stream",
     "text": [
      "201912-baywheels-tripdata.csv, (2506983, 15)\n"
     ]
    }
   ],
   "source": [
    "#reading in multiple data files (representing each month of year 2019)\n",
    "#than concatenating them into one master dataframe\n",
    "path = './/data//'\n",
    "filelist = os.listdir(path)\n",
    "bikes_master = pd.DataFrame()\n",
    "\n",
    "\n",
    "\n",
    "for file in filelist:\n",
    "    df = pd.read_csv(path + file, infer_datetime_format=True, parse_dates=['start_time', 'end_time'])\n",
    "    bikes_master = pd.concat([bikes_master, df])\n",
    "    print(file + \", \" + str(bikes_master.shape))"
   ]
  },
  {
   "cell_type": "markdown",
   "metadata": {},
   "source": [
    "Looking at the progression of the dataframe's shape in the above prints, we can see that **some files have 14 some have 15 columns.**\n",
    "\n",
    "The shape expands to 15 columns at 201906-baywheels-tripdata.csv, so opening this file and the previous in the list in Microsoft Excel, we can observe that the additional column is **rental_access_method**\n",
    "\n",
    "We can also confirm it with the .info method below. We can see the number of non-null values are significantly lower."
   ]
  },
  {
   "cell_type": "code",
   "execution_count": 3,
   "metadata": {},
   "outputs": [
    {
     "data": {
      "text/html": [
       "<div>\n",
       "<style scoped>\n",
       "    .dataframe tbody tr th:only-of-type {\n",
       "        vertical-align: middle;\n",
       "    }\n",
       "\n",
       "    .dataframe tbody tr th {\n",
       "        vertical-align: top;\n",
       "    }\n",
       "\n",
       "    .dataframe thead th {\n",
       "        text-align: right;\n",
       "    }\n",
       "</style>\n",
       "<table border=\"1\" class=\"dataframe\">\n",
       "  <thead>\n",
       "    <tr style=\"text-align: right;\">\n",
       "      <th></th>\n",
       "      <th>duration_sec</th>\n",
       "      <th>start_time</th>\n",
       "      <th>end_time</th>\n",
       "      <th>start_station_id</th>\n",
       "      <th>start_station_name</th>\n",
       "      <th>start_station_latitude</th>\n",
       "      <th>start_station_longitude</th>\n",
       "      <th>end_station_id</th>\n",
       "      <th>end_station_name</th>\n",
       "      <th>end_station_latitude</th>\n",
       "      <th>end_station_longitude</th>\n",
       "      <th>bike_id</th>\n",
       "      <th>user_type</th>\n",
       "      <th>bike_share_for_all_trip</th>\n",
       "      <th>rental_access_method</th>\n",
       "    </tr>\n",
       "  </thead>\n",
       "  <tbody>\n",
       "    <tr>\n",
       "      <th>0</th>\n",
       "      <td>80825</td>\n",
       "      <td>2019-01-31 17:57:44.613</td>\n",
       "      <td>2019-02-01 16:24:49.864</td>\n",
       "      <td>229.0</td>\n",
       "      <td>Foothill Blvd at 42nd Ave</td>\n",
       "      <td>37.775745</td>\n",
       "      <td>-122.213037</td>\n",
       "      <td>196.0</td>\n",
       "      <td>Grand Ave at Perkins St</td>\n",
       "      <td>37.808894</td>\n",
       "      <td>-122.256460</td>\n",
       "      <td>4861</td>\n",
       "      <td>Subscriber</td>\n",
       "      <td>No</td>\n",
       "      <td>NaN</td>\n",
       "    </tr>\n",
       "    <tr>\n",
       "      <th>1</th>\n",
       "      <td>65900</td>\n",
       "      <td>2019-01-31 20:58:33.886</td>\n",
       "      <td>2019-02-01 15:16:54.173</td>\n",
       "      <td>4.0</td>\n",
       "      <td>Cyril Magnin St at Ellis St</td>\n",
       "      <td>37.785881</td>\n",
       "      <td>-122.408915</td>\n",
       "      <td>134.0</td>\n",
       "      <td>Valencia St at 24th St</td>\n",
       "      <td>37.752428</td>\n",
       "      <td>-122.420628</td>\n",
       "      <td>5506</td>\n",
       "      <td>Subscriber</td>\n",
       "      <td>No</td>\n",
       "      <td>NaN</td>\n",
       "    </tr>\n",
       "    <tr>\n",
       "      <th>2</th>\n",
       "      <td>62633</td>\n",
       "      <td>2019-01-31 18:06:52.924</td>\n",
       "      <td>2019-02-01 11:30:46.530</td>\n",
       "      <td>245.0</td>\n",
       "      <td>Downtown Berkeley BART</td>\n",
       "      <td>37.870139</td>\n",
       "      <td>-122.268422</td>\n",
       "      <td>157.0</td>\n",
       "      <td>65th St at Hollis St</td>\n",
       "      <td>37.846784</td>\n",
       "      <td>-122.291376</td>\n",
       "      <td>2717</td>\n",
       "      <td>Customer</td>\n",
       "      <td>No</td>\n",
       "      <td>NaN</td>\n",
       "    </tr>\n",
       "    <tr>\n",
       "      <th>3</th>\n",
       "      <td>44680</td>\n",
       "      <td>2019-01-31 19:46:09.719</td>\n",
       "      <td>2019-02-01 08:10:50.318</td>\n",
       "      <td>85.0</td>\n",
       "      <td>Church St at Duboce Ave</td>\n",
       "      <td>37.770083</td>\n",
       "      <td>-122.429156</td>\n",
       "      <td>53.0</td>\n",
       "      <td>Grove St at Divisadero</td>\n",
       "      <td>37.775946</td>\n",
       "      <td>-122.437777</td>\n",
       "      <td>4557</td>\n",
       "      <td>Customer</td>\n",
       "      <td>No</td>\n",
       "      <td>NaN</td>\n",
       "    </tr>\n",
       "    <tr>\n",
       "      <th>4</th>\n",
       "      <td>60709</td>\n",
       "      <td>2019-01-31 14:19:01.541</td>\n",
       "      <td>2019-02-01 07:10:51.065</td>\n",
       "      <td>16.0</td>\n",
       "      <td>Steuart St at Market St</td>\n",
       "      <td>37.794130</td>\n",
       "      <td>-122.394430</td>\n",
       "      <td>28.0</td>\n",
       "      <td>The Embarcadero at Bryant St</td>\n",
       "      <td>37.787168</td>\n",
       "      <td>-122.388098</td>\n",
       "      <td>2100</td>\n",
       "      <td>Customer</td>\n",
       "      <td>No</td>\n",
       "      <td>NaN</td>\n",
       "    </tr>\n",
       "  </tbody>\n",
       "</table>\n",
       "</div>"
      ],
      "text/plain": [
       "   duration_sec              start_time                end_time  \\\n",
       "0         80825 2019-01-31 17:57:44.613 2019-02-01 16:24:49.864   \n",
       "1         65900 2019-01-31 20:58:33.886 2019-02-01 15:16:54.173   \n",
       "2         62633 2019-01-31 18:06:52.924 2019-02-01 11:30:46.530   \n",
       "3         44680 2019-01-31 19:46:09.719 2019-02-01 08:10:50.318   \n",
       "4         60709 2019-01-31 14:19:01.541 2019-02-01 07:10:51.065   \n",
       "\n",
       "   start_station_id           start_station_name  start_station_latitude  \\\n",
       "0             229.0    Foothill Blvd at 42nd Ave               37.775745   \n",
       "1               4.0  Cyril Magnin St at Ellis St               37.785881   \n",
       "2             245.0       Downtown Berkeley BART               37.870139   \n",
       "3              85.0      Church St at Duboce Ave               37.770083   \n",
       "4              16.0      Steuart St at Market St               37.794130   \n",
       "\n",
       "   start_station_longitude  end_station_id              end_station_name  \\\n",
       "0              -122.213037           196.0       Grand Ave at Perkins St   \n",
       "1              -122.408915           134.0        Valencia St at 24th St   \n",
       "2              -122.268422           157.0          65th St at Hollis St   \n",
       "3              -122.429156            53.0        Grove St at Divisadero   \n",
       "4              -122.394430            28.0  The Embarcadero at Bryant St   \n",
       "\n",
       "   end_station_latitude  end_station_longitude  bike_id   user_type  \\\n",
       "0             37.808894            -122.256460     4861  Subscriber   \n",
       "1             37.752428            -122.420628     5506  Subscriber   \n",
       "2             37.846784            -122.291376     2717    Customer   \n",
       "3             37.775946            -122.437777     4557    Customer   \n",
       "4             37.787168            -122.388098     2100    Customer   \n",
       "\n",
       "  bike_share_for_all_trip rental_access_method  \n",
       "0                      No                  NaN  \n",
       "1                      No                  NaN  \n",
       "2                      No                  NaN  \n",
       "3                      No                  NaN  \n",
       "4                      No                  NaN  "
      ]
     },
     "execution_count": 3,
     "metadata": {},
     "output_type": "execute_result"
    }
   ],
   "source": [
    "#Observing column names, and content of the first 5 row to get a sense about the data\n",
    "bikes_master.head()"
   ]
  },
  {
   "cell_type": "code",
   "execution_count": 4,
   "metadata": {},
   "outputs": [
    {
     "name": "stdout",
     "output_type": "stream",
     "text": [
      "<class 'pandas.core.frame.DataFrame'>\n",
      "Int64Index: 2506983 entries, 0 to 150101\n",
      "Data columns (total 15 columns):\n",
      " #   Column                   Non-Null Count    Dtype         \n",
      "---  ------                   --------------    -----         \n",
      " 0   duration_sec             2506983 non-null  int64         \n",
      " 1   start_time               2506983 non-null  datetime64[ns]\n",
      " 2   end_time                 2506983 non-null  datetime64[ns]\n",
      " 3   start_station_id         2426249 non-null  float64       \n",
      " 4   start_station_name       2426850 non-null  object        \n",
      " 5   start_station_latitude   2506983 non-null  float64       \n",
      " 6   start_station_longitude  2506983 non-null  float64       \n",
      " 7   end_station_id           2424081 non-null  float64       \n",
      " 8   end_station_name         2424633 non-null  object        \n",
      " 9   end_station_latitude     2506983 non-null  float64       \n",
      " 10  end_station_longitude    2506983 non-null  float64       \n",
      " 11  bike_id                  2506983 non-null  int64         \n",
      " 12  user_type                2506983 non-null  object        \n",
      " 13  bike_share_for_all_trip  2263724 non-null  object        \n",
      " 14  rental_access_method     120838 non-null   object        \n",
      "dtypes: datetime64[ns](2), float64(6), int64(2), object(5)\n",
      "memory usage: 306.0+ MB\n"
     ]
    }
   ],
   "source": [
    "bikes_master.info(null_counts=True)"
   ]
  },
  {
   "cell_type": "code",
   "execution_count": 5,
   "metadata": {},
   "outputs": [
    {
     "data": {
      "text/plain": [
       "duration_sec                 15280\n",
       "start_time                 2502104\n",
       "end_time                   2502105\n",
       "start_station_id               436\n",
       "start_station_name             446\n",
       "start_station_latitude       74719\n",
       "start_station_longitude      75943\n",
       "end_station_id                 436\n",
       "end_station_name               446\n",
       "end_station_latitude         76905\n",
       "end_station_longitude        77995\n",
       "bike_id                      11070\n",
       "user_type                        2\n",
       "bike_share_for_all_trip          2\n",
       "rental_access_method             2\n",
       "dtype: int64"
      ]
     },
     "execution_count": 5,
     "metadata": {},
     "output_type": "execute_result"
    }
   ],
   "source": [
    "#Observing number of unique values for each column to understand variation of entries\n",
    "#and see if any of them can be converted to category datatype\n",
    "bikes_master.nunique()"
   ]
  },
  {
   "cell_type": "code",
   "execution_count": 6,
   "metadata": {},
   "outputs": [
    {
     "data": {
      "text/html": [
       "<div>\n",
       "<style scoped>\n",
       "    .dataframe tbody tr th:only-of-type {\n",
       "        vertical-align: middle;\n",
       "    }\n",
       "\n",
       "    .dataframe tbody tr th {\n",
       "        vertical-align: top;\n",
       "    }\n",
       "\n",
       "    .dataframe thead th {\n",
       "        text-align: right;\n",
       "    }\n",
       "</style>\n",
       "<table border=\"1\" class=\"dataframe\">\n",
       "  <thead>\n",
       "    <tr style=\"text-align: right;\">\n",
       "      <th></th>\n",
       "      <th>duration_sec</th>\n",
       "      <th>start_station_id</th>\n",
       "      <th>start_station_latitude</th>\n",
       "      <th>start_station_longitude</th>\n",
       "      <th>end_station_id</th>\n",
       "      <th>end_station_latitude</th>\n",
       "      <th>end_station_longitude</th>\n",
       "      <th>bike_id</th>\n",
       "    </tr>\n",
       "  </thead>\n",
       "  <tbody>\n",
       "    <tr>\n",
       "      <th>count</th>\n",
       "      <td>2.506983e+06</td>\n",
       "      <td>2.426249e+06</td>\n",
       "      <td>2.506983e+06</td>\n",
       "      <td>2.506983e+06</td>\n",
       "      <td>2.424081e+06</td>\n",
       "      <td>2.506983e+06</td>\n",
       "      <td>2.506983e+06</td>\n",
       "      <td>2.506983e+06</td>\n",
       "    </tr>\n",
       "    <tr>\n",
       "      <th>mean</th>\n",
       "      <td>8.076483e+02</td>\n",
       "      <td>1.465047e+02</td>\n",
       "      <td>3.776506e+01</td>\n",
       "      <td>-1.223499e+02</td>\n",
       "      <td>1.427044e+02</td>\n",
       "      <td>3.776422e+01</td>\n",
       "      <td>-1.223459e+02</td>\n",
       "      <td>2.789833e+04</td>\n",
       "    </tr>\n",
       "    <tr>\n",
       "      <th>std</th>\n",
       "      <td>1.974714e+03</td>\n",
       "      <td>1.223171e+02</td>\n",
       "      <td>1.363698e-01</td>\n",
       "      <td>3.089648e-01</td>\n",
       "      <td>1.214296e+02</td>\n",
       "      <td>2.392885e-01</td>\n",
       "      <td>7.080417e-01</td>\n",
       "      <td>1.146067e+05</td>\n",
       "    </tr>\n",
       "    <tr>\n",
       "      <th>min</th>\n",
       "      <td>6.000000e+01</td>\n",
       "      <td>3.000000e+00</td>\n",
       "      <td>0.000000e+00</td>\n",
       "      <td>-1.225143e+02</td>\n",
       "      <td>3.000000e+00</td>\n",
       "      <td>0.000000e+00</td>\n",
       "      <td>-1.225143e+02</td>\n",
       "      <td>4.000000e+00</td>\n",
       "    </tr>\n",
       "    <tr>\n",
       "      <th>25%</th>\n",
       "      <td>3.590000e+02</td>\n",
       "      <td>4.700000e+01</td>\n",
       "      <td>3.776931e+01</td>\n",
       "      <td>-1.224130e+02</td>\n",
       "      <td>4.300000e+01</td>\n",
       "      <td>3.777003e+01</td>\n",
       "      <td>-1.224117e+02</td>\n",
       "      <td>1.952000e+03</td>\n",
       "    </tr>\n",
       "    <tr>\n",
       "      <th>50%</th>\n",
       "      <td>5.710000e+02</td>\n",
       "      <td>1.050000e+02</td>\n",
       "      <td>3.778053e+01</td>\n",
       "      <td>-1.223983e+02</td>\n",
       "      <td>1.010000e+02</td>\n",
       "      <td>3.778076e+01</td>\n",
       "      <td>-1.223981e+02</td>\n",
       "      <td>4.420000e+03</td>\n",
       "    </tr>\n",
       "    <tr>\n",
       "      <th>75%</th>\n",
       "      <td>8.870000e+02</td>\n",
       "      <td>2.430000e+02</td>\n",
       "      <td>3.779539e+01</td>\n",
       "      <td>-1.222914e+02</td>\n",
       "      <td>2.390000e+02</td>\n",
       "      <td>3.779587e+01</td>\n",
       "      <td>-1.222934e+02</td>\n",
       "      <td>9.682000e+03</td>\n",
       "    </tr>\n",
       "    <tr>\n",
       "      <th>max</th>\n",
       "      <td>9.121100e+05</td>\n",
       "      <td>4.980000e+02</td>\n",
       "      <td>4.551000e+01</td>\n",
       "      <td>0.000000e+00</td>\n",
       "      <td>4.980000e+02</td>\n",
       "      <td>4.551000e+01</td>\n",
       "      <td>0.000000e+00</td>\n",
       "      <td>9.999410e+05</td>\n",
       "    </tr>\n",
       "  </tbody>\n",
       "</table>\n",
       "</div>"
      ],
      "text/plain": [
       "       duration_sec  start_station_id  start_station_latitude  \\\n",
       "count  2.506983e+06      2.426249e+06            2.506983e+06   \n",
       "mean   8.076483e+02      1.465047e+02            3.776506e+01   \n",
       "std    1.974714e+03      1.223171e+02            1.363698e-01   \n",
       "min    6.000000e+01      3.000000e+00            0.000000e+00   \n",
       "25%    3.590000e+02      4.700000e+01            3.776931e+01   \n",
       "50%    5.710000e+02      1.050000e+02            3.778053e+01   \n",
       "75%    8.870000e+02      2.430000e+02            3.779539e+01   \n",
       "max    9.121100e+05      4.980000e+02            4.551000e+01   \n",
       "\n",
       "       start_station_longitude  end_station_id  end_station_latitude  \\\n",
       "count             2.506983e+06    2.424081e+06          2.506983e+06   \n",
       "mean             -1.223499e+02    1.427044e+02          3.776422e+01   \n",
       "std               3.089648e-01    1.214296e+02          2.392885e-01   \n",
       "min              -1.225143e+02    3.000000e+00          0.000000e+00   \n",
       "25%              -1.224130e+02    4.300000e+01          3.777003e+01   \n",
       "50%              -1.223983e+02    1.010000e+02          3.778076e+01   \n",
       "75%              -1.222914e+02    2.390000e+02          3.779587e+01   \n",
       "max               0.000000e+00    4.980000e+02          4.551000e+01   \n",
       "\n",
       "       end_station_longitude       bike_id  \n",
       "count           2.506983e+06  2.506983e+06  \n",
       "mean           -1.223459e+02  2.789833e+04  \n",
       "std             7.080417e-01  1.146067e+05  \n",
       "min            -1.225143e+02  4.000000e+00  \n",
       "25%            -1.224117e+02  1.952000e+03  \n",
       "50%            -1.223981e+02  4.420000e+03  \n",
       "75%            -1.222934e+02  9.682000e+03  \n",
       "max             0.000000e+00  9.999410e+05  "
      ]
     },
     "execution_count": 6,
     "metadata": {},
     "output_type": "execute_result"
    }
   ],
   "source": [
    "bikes_master.describe()"
   ]
  },
  {
   "cell_type": "code",
   "execution_count": 7,
   "metadata": {},
   "outputs": [
    {
     "data": {
      "text/plain": [
       "0"
      ]
     },
     "execution_count": 7,
     "metadata": {},
     "output_type": "execute_result"
    }
   ],
   "source": [
    "#See whether there are any duplicated rows\n",
    "bikes_master.duplicated().sum()"
   ]
  },
  {
   "cell_type": "markdown",
   "metadata": {},
   "source": [
    "### Data Assesment\n",
    "\n",
    "#### Quality:\n",
    "    1) DONE - rental_access_method column only included in some of the files, has a large number of missing values\n",
    "    2) DONE - start_station_id datatype is float\n",
    "    3) DONE - end_station_id datatype is float\n",
    "    4) DONE - bike_share_for_all_trip datatype is Object(String)\n",
    "    5) DONE - user_type datatype is Object(String)\n",
    "    6) DONE - start_station_id column has missing values\n",
    "    7) DONE - start_station_name has missing values\n",
    "    8) DONE - end_station_id has missing values\n",
    "    9) DONE - end_station_name has missing values\n",
    "    10) DONE - bike_share_for_all_trip column has missing values\n",
    "        \n",
    "#### Titiness:\n",
    "    no tidiness issues observed"
   ]
  },
  {
   "cell_type": "markdown",
   "metadata": {},
   "source": [
    "## Data Cleaning"
   ]
  },
  {
   "cell_type": "code",
   "execution_count": 8,
   "metadata": {},
   "outputs": [],
   "source": [
    "#Make a copy of the master dataframe\n",
    "bikes_clean = bikes_master.copy()"
   ]
  },
  {
   "cell_type": "markdown",
   "metadata": {},
   "source": [
    "### Define 1):\n",
    "\n",
    "Drop rental_access_method column since this feature was not recorded in every month"
   ]
  },
  {
   "cell_type": "markdown",
   "metadata": {},
   "source": [
    "### Code 1):"
   ]
  },
  {
   "cell_type": "code",
   "execution_count": 9,
   "metadata": {},
   "outputs": [],
   "source": [
    "#apply .drop() function on the clean dataset to remove the 'rental_access_method' column.\n",
    "bikes_clean.drop('rental_access_method', axis=1, inplace=True)"
   ]
  },
  {
   "cell_type": "markdown",
   "metadata": {},
   "source": [
    "### Test 1):"
   ]
  },
  {
   "cell_type": "code",
   "execution_count": 10,
   "metadata": {},
   "outputs": [
    {
     "name": "stdout",
     "output_type": "stream",
     "text": [
      "False\n"
     ]
    },
    {
     "data": {
      "text/plain": [
       "['duration_sec',\n",
       " 'start_time',\n",
       " 'end_time',\n",
       " 'start_station_id',\n",
       " 'start_station_name',\n",
       " 'start_station_latitude',\n",
       " 'start_station_longitude',\n",
       " 'end_station_id',\n",
       " 'end_station_name',\n",
       " 'end_station_latitude',\n",
       " 'end_station_longitude',\n",
       " 'bike_id',\n",
       " 'user_type',\n",
       " 'bike_share_for_all_trip']"
      ]
     },
     "execution_count": 10,
     "metadata": {},
     "output_type": "execute_result"
    }
   ],
   "source": [
    "#Check whether 'rental_access_method' column is included in the dataframe (response should be False if drop was succesful)\n",
    "#Also List columnnames to visually observe the same.\n",
    "\n",
    "print('rental_access_method' in bikes_clean.columns)\n",
    "list(bikes_clean.columns)"
   ]
  },
  {
   "cell_type": "markdown",
   "metadata": {},
   "source": [
    "### Define 2):\n",
    "\n",
    "There are missing values in the station id columns: \n",
    "start_station_id, start_station_name, end_station_id, end_station_name\n",
    "\n",
    "See if we can find \n",
    "        1) the missing ids based on station name, \n",
    "        2) and the missing station names based on staion is\n",
    "        \n",
    "To do that I'll create a lookup table with the unique station ids and station names\n",
    "Than I'll use this lookup table to:\n",
    "        a) fill in the start and end station name columns based on their respective station ids\n",
    "        b) fill in the start and end station id columns based on their respective station names"
   ]
  },
  {
   "cell_type": "markdown",
   "metadata": {},
   "source": [
    "### Code 2):"
   ]
  },
  {
   "cell_type": "code",
   "execution_count": 11,
   "metadata": {},
   "outputs": [],
   "source": [
    "#Creating a lookup table for the start station names and ids\n",
    "stations_start = bikes_clean.melt(id_vars='start_station_id', value_vars='start_station_name', \n",
    "                                  value_name='station_name')\n",
    "stations_start.rename(columns={'start_station_id' : 'id'}, inplace=True)\n",
    "\n",
    "#Creating a lookup table for the end station names and ids\n",
    "stations_end = bikes_clean.melt(id_vars='end_station_id', value_vars='end_station_name', \n",
    "                                  value_name='station_name')\n",
    "stations_end.rename(columns={'end_station_id' : 'id'}, inplace=True)\n",
    "\n",
    "#Concatenating the two lookup table\n",
    "stations = pd.concat([stations_start, stations_end])\n",
    "                            \n",
    "#Cleaning the lookup table\n",
    "stations.drop('variable', axis=1, inplace=True)\n",
    "stations.sort_values(by='id', inplace=True)\n",
    "stations.reset_index(inplace=True, drop=True)\n",
    "stations.drop_duplicates(inplace=True)\n",
    "stations.dropna(inplace=True)"
   ]
  },
  {
   "cell_type": "code",
   "execution_count": 12,
   "metadata": {},
   "outputs": [
    {
     "name": "stdout",
     "output_type": "stream",
     "text": [
      "10\n",
      "0\n"
     ]
    },
    {
     "data": {
      "text/html": [
       "<div>\n",
       "<style scoped>\n",
       "    .dataframe tbody tr th:only-of-type {\n",
       "        vertical-align: middle;\n",
       "    }\n",
       "\n",
       "    .dataframe tbody tr th {\n",
       "        vertical-align: top;\n",
       "    }\n",
       "\n",
       "    .dataframe thead th {\n",
       "        text-align: right;\n",
       "    }\n",
       "</style>\n",
       "<table border=\"1\" class=\"dataframe\">\n",
       "  <thead>\n",
       "    <tr style=\"text-align: right;\">\n",
       "      <th></th>\n",
       "      <th>id</th>\n",
       "      <th>station_name</th>\n",
       "    </tr>\n",
       "  </thead>\n",
       "  <tbody>\n",
       "    <tr>\n",
       "      <th>0</th>\n",
       "      <td>3.0</td>\n",
       "      <td>Powell St BART Station (Market St at 4th St)</td>\n",
       "    </tr>\n",
       "    <tr>\n",
       "      <th>71719</th>\n",
       "      <td>4.0</td>\n",
       "      <td>Cyril Magnin St at Ellis St</td>\n",
       "    </tr>\n",
       "    <tr>\n",
       "      <th>86097</th>\n",
       "      <td>5.0</td>\n",
       "      <td>Powell St BART Station (Market St at 5th St)</td>\n",
       "    </tr>\n",
       "    <tr>\n",
       "      <th>148218</th>\n",
       "      <td>6.0</td>\n",
       "      <td>The Embarcadero at Sansome St</td>\n",
       "    </tr>\n",
       "    <tr>\n",
       "      <th>210289</th>\n",
       "      <td>7.0</td>\n",
       "      <td>Frank H Ogawa Plaza</td>\n",
       "    </tr>\n",
       "    <tr>\n",
       "      <th>...</th>\n",
       "      <td>...</td>\n",
       "      <td>...</td>\n",
       "    </tr>\n",
       "    <tr>\n",
       "      <th>4849382</th>\n",
       "      <td>492.0</td>\n",
       "      <td>Webster St at Clay St</td>\n",
       "    </tr>\n",
       "    <tr>\n",
       "      <th>4849484</th>\n",
       "      <td>493.0</td>\n",
       "      <td>Folsom St at 7th St</td>\n",
       "    </tr>\n",
       "    <tr>\n",
       "      <th>4850232</th>\n",
       "      <td>494.0</td>\n",
       "      <td>Park Ave at Laurel Grove Ln</td>\n",
       "    </tr>\n",
       "    <tr>\n",
       "      <th>4850263</th>\n",
       "      <td>495.0</td>\n",
       "      <td>St James St at 9th St</td>\n",
       "    </tr>\n",
       "    <tr>\n",
       "      <th>4850309</th>\n",
       "      <td>498.0</td>\n",
       "      <td>Frida Kahlo Way at Cloud Cir</td>\n",
       "    </tr>\n",
       "  </tbody>\n",
       "</table>\n",
       "<p>446 rows × 2 columns</p>\n",
       "</div>"
      ],
      "text/plain": [
       "            id                                  station_name\n",
       "0          3.0  Powell St BART Station (Market St at 4th St)\n",
       "71719      4.0                   Cyril Magnin St at Ellis St\n",
       "86097      5.0  Powell St BART Station (Market St at 5th St)\n",
       "148218     6.0                 The Embarcadero at Sansome St\n",
       "210289     7.0                           Frank H Ogawa Plaza\n",
       "...        ...                                           ...\n",
       "4849382  492.0                         Webster St at Clay St\n",
       "4849484  493.0                           Folsom St at 7th St\n",
       "4850232  494.0                   Park Ave at Laurel Grove Ln\n",
       "4850263  495.0                         St James St at 9th St\n",
       "4850309  498.0                  Frida Kahlo Way at Cloud Cir\n",
       "\n",
       "[446 rows x 2 columns]"
      ]
     },
     "execution_count": 12,
     "metadata": {},
     "output_type": "execute_result"
    }
   ],
   "source": [
    "#Check whether we have any duplicated values in any of the columns\n",
    "print(stations.duplicated(subset=['id']).sum())\n",
    "print(stations.duplicated(subset=['station_name']).sum())\n",
    "stations"
   ]
  },
  {
   "cell_type": "code",
   "execution_count": 13,
   "metadata": {},
   "outputs": [
    {
     "data": {
      "text/html": [
       "<div>\n",
       "<style scoped>\n",
       "    .dataframe tbody tr th:only-of-type {\n",
       "        vertical-align: middle;\n",
       "    }\n",
       "\n",
       "    .dataframe tbody tr th {\n",
       "        vertical-align: top;\n",
       "    }\n",
       "\n",
       "    .dataframe thead th {\n",
       "        text-align: right;\n",
       "    }\n",
       "</style>\n",
       "<table border=\"1\" class=\"dataframe\">\n",
       "  <thead>\n",
       "    <tr style=\"text-align: right;\">\n",
       "      <th></th>\n",
       "      <th>id</th>\n",
       "      <th>station_name</th>\n",
       "    </tr>\n",
       "  </thead>\n",
       "  <tbody>\n",
       "    <tr>\n",
       "      <th>1109002</th>\n",
       "      <td>37.0</td>\n",
       "      <td>Folsom St at 2nd St</td>\n",
       "    </tr>\n",
       "    <tr>\n",
       "      <th>1109003</th>\n",
       "      <td>37.0</td>\n",
       "      <td>2nd St at Folsom St</td>\n",
       "    </tr>\n",
       "    <tr>\n",
       "      <th>3566247</th>\n",
       "      <td>234.0</td>\n",
       "      <td>Farnam St at Fruitvale Ave</td>\n",
       "    </tr>\n",
       "    <tr>\n",
       "      <th>3566248</th>\n",
       "      <td>234.0</td>\n",
       "      <td>Fruitvale Ave at International Blvd</td>\n",
       "    </tr>\n",
       "    <tr>\n",
       "      <th>3981327</th>\n",
       "      <td>277.0</td>\n",
       "      <td>W Julian St at N Morrison St</td>\n",
       "    </tr>\n",
       "    <tr>\n",
       "      <th>3981328</th>\n",
       "      <td>277.0</td>\n",
       "      <td>Morrison Ave at Julian St</td>\n",
       "    </tr>\n",
       "    <tr>\n",
       "      <th>4068279</th>\n",
       "      <td>289.0</td>\n",
       "      <td>5th St at Taylor St</td>\n",
       "    </tr>\n",
       "    <tr>\n",
       "      <th>4068286</th>\n",
       "      <td>289.0</td>\n",
       "      <td>N 3rd St at E Taylor St</td>\n",
       "    </tr>\n",
       "    <tr>\n",
       "      <th>4070587</th>\n",
       "      <td>290.0</td>\n",
       "      <td>George St at 1st St</td>\n",
       "    </tr>\n",
       "    <tr>\n",
       "      <th>4070588</th>\n",
       "      <td>290.0</td>\n",
       "      <td>Jackson St at N 1st St</td>\n",
       "    </tr>\n",
       "    <tr>\n",
       "      <th>4184566</th>\n",
       "      <td>316.0</td>\n",
       "      <td>1st St at San Carlos Ave</td>\n",
       "    </tr>\n",
       "    <tr>\n",
       "      <th>4184567</th>\n",
       "      <td>316.0</td>\n",
       "      <td>1st St at San Carlos St</td>\n",
       "    </tr>\n",
       "    <tr>\n",
       "      <th>4184569</th>\n",
       "      <td>316.0</td>\n",
       "      <td>San Salvador St at 1st St</td>\n",
       "    </tr>\n",
       "    <tr>\n",
       "      <th>4197668</th>\n",
       "      <td>321.0</td>\n",
       "      <td>5th St at Folsom</td>\n",
       "    </tr>\n",
       "    <tr>\n",
       "      <th>4197669</th>\n",
       "      <td>321.0</td>\n",
       "      <td>Folsom St at 5th St</td>\n",
       "    </tr>\n",
       "    <tr>\n",
       "      <th>4637032</th>\n",
       "      <td>378.0</td>\n",
       "      <td>Empire St at 7th St</td>\n",
       "    </tr>\n",
       "    <tr>\n",
       "      <th>4637034</th>\n",
       "      <td>378.0</td>\n",
       "      <td>7th St at Empire St</td>\n",
       "    </tr>\n",
       "    <tr>\n",
       "      <th>4704287</th>\n",
       "      <td>393.0</td>\n",
       "      <td>Emory St at The Alameda</td>\n",
       "    </tr>\n",
       "    <tr>\n",
       "      <th>4704288</th>\n",
       "      <td>393.0</td>\n",
       "      <td>Asbury St at The Alameda</td>\n",
       "    </tr>\n",
       "  </tbody>\n",
       "</table>\n",
       "</div>"
      ],
      "text/plain": [
       "            id                         station_name\n",
       "1109002   37.0                  Folsom St at 2nd St\n",
       "1109003   37.0                  2nd St at Folsom St\n",
       "3566247  234.0           Farnam St at Fruitvale Ave\n",
       "3566248  234.0  Fruitvale Ave at International Blvd\n",
       "3981327  277.0         W Julian St at N Morrison St\n",
       "3981328  277.0            Morrison Ave at Julian St\n",
       "4068279  289.0                  5th St at Taylor St\n",
       "4068286  289.0              N 3rd St at E Taylor St\n",
       "4070587  290.0                  George St at 1st St\n",
       "4070588  290.0               Jackson St at N 1st St\n",
       "4184566  316.0             1st St at San Carlos Ave\n",
       "4184567  316.0              1st St at San Carlos St\n",
       "4184569  316.0            San Salvador St at 1st St\n",
       "4197668  321.0                     5th St at Folsom\n",
       "4197669  321.0                  Folsom St at 5th St\n",
       "4637032  378.0                  Empire St at 7th St\n",
       "4637034  378.0                  7th St at Empire St\n",
       "4704287  393.0              Emory St at The Alameda\n",
       "4704288  393.0             Asbury St at The Alameda"
      ]
     },
     "execution_count": 13,
     "metadata": {},
     "output_type": "execute_result"
    }
   ],
   "source": [
    "#Check the records with duplicated ids\n",
    "stations[stations['id'].duplicated(keep=False)]"
   ]
  },
  {
   "cell_type": "code",
   "execution_count": 14,
   "metadata": {},
   "outputs": [
    {
     "name": "stdout",
     "output_type": "stream",
     "text": [
      "0\n",
      "0\n"
     ]
    }
   ],
   "source": [
    "#looks like in most cases, the duplicates are just different writing format of the same address\n",
    "#There are some exceptions (id 393, 290), where I don't know which one is the orrect format, so I will keep the 1st\n",
    "stations.drop_duplicates(subset=['station_name'], keep='first', inplace=True)\n",
    "stations.reset_index(drop=True, inplace=True)\n",
    "stations.drop_duplicates(subset=['id'], keep='first', inplace=True)\n",
    "stations.reset_index(drop=True, inplace=True)\n",
    "\n",
    "#Check if drop was correct\n",
    "print(stations.duplicated(subset=['id']).sum())\n",
    "print(stations.duplicated(subset=['station_name']).sum())"
   ]
  },
  {
   "cell_type": "markdown",
   "metadata": {},
   "source": [
    "#### Standardizing\n",
    "Filling in Null values, and standardizing station **names** and **ids**\n",
    "\n",
    "filling in start and end station names based on start and end station id, from on the stations dataframe\n",
    "\n",
    "Using inner join, this will drop records where we have both the name and the id missing."
   ]
  },
  {
   "cell_type": "code",
   "execution_count": 15,
   "metadata": {},
   "outputs": [],
   "source": [
    "#Standardizing station NAMES\n",
    "\n",
    "#start_station_name\n",
    "bikes_clean = bikes_clean.merge(stations, left_on='start_station_id', right_on='id', how='inner')\n",
    "bikes_clean.drop(['start_station_name', 'id'], axis=1, inplace=True)\n",
    "bikes_clean.rename(columns={'station_name' : 'start_station_name'}, inplace=True)\n",
    "\n",
    "#end_station_name\n",
    "bikes_clean = bikes_clean.merge(stations, left_on='end_station_id', right_on='id', how='inner')\n",
    "bikes_clean.drop(['end_station_name', 'id'],  axis=1, inplace=True)\n",
    "bikes_clean.rename(columns={'station_name' : 'end_station_name'}, inplace=True)"
   ]
  },
  {
   "cell_type": "code",
   "execution_count": 16,
   "metadata": {},
   "outputs": [],
   "source": [
    "#Standardizing station IDs.\n",
    "\n",
    "#start_station_id\n",
    "bikes_clean = bikes_clean.merge(stations, left_on='start_station_name', right_on='station_name', how='inner')\n",
    "bikes_clean.drop(['start_station_id', 'station_name'], axis=1, inplace=True)\n",
    "bikes_clean.rename(columns={'id' : 'start_station_id'}, inplace=True)\n",
    "\n",
    "#start_station_name\n",
    "bikes_clean = bikes_clean.merge(stations, left_on='end_station_name', right_on='station_name', how='inner')\n",
    "bikes_clean.drop(['end_station_id', 'station_name'], axis=1, inplace=True)\n",
    "bikes_clean.rename(columns={'id' : 'end_station_id'}, inplace=True)"
   ]
  },
  {
   "cell_type": "markdown",
   "metadata": {},
   "source": [
    "### Test 2):"
   ]
  },
  {
   "cell_type": "code",
   "execution_count": 17,
   "metadata": {},
   "outputs": [
    {
     "data": {
      "text/html": [
       "<div>\n",
       "<style scoped>\n",
       "    .dataframe tbody tr th:only-of-type {\n",
       "        vertical-align: middle;\n",
       "    }\n",
       "\n",
       "    .dataframe tbody tr th {\n",
       "        vertical-align: top;\n",
       "    }\n",
       "\n",
       "    .dataframe thead th {\n",
       "        text-align: right;\n",
       "    }\n",
       "</style>\n",
       "<table border=\"1\" class=\"dataframe\">\n",
       "  <thead>\n",
       "    <tr style=\"text-align: right;\">\n",
       "      <th></th>\n",
       "      <th>duration_sec</th>\n",
       "      <th>start_time</th>\n",
       "      <th>end_time</th>\n",
       "      <th>start_station_latitude</th>\n",
       "      <th>start_station_longitude</th>\n",
       "      <th>end_station_latitude</th>\n",
       "      <th>end_station_longitude</th>\n",
       "      <th>bike_id</th>\n",
       "      <th>user_type</th>\n",
       "      <th>bike_share_for_all_trip</th>\n",
       "      <th>start_station_name</th>\n",
       "      <th>end_station_name</th>\n",
       "      <th>start_station_id</th>\n",
       "      <th>end_station_id</th>\n",
       "    </tr>\n",
       "  </thead>\n",
       "  <tbody>\n",
       "  </tbody>\n",
       "</table>\n",
       "</div>"
      ],
      "text/plain": [
       "Empty DataFrame\n",
       "Columns: [duration_sec, start_time, end_time, start_station_latitude, start_station_longitude, end_station_latitude, end_station_longitude, bike_id, user_type, bike_share_for_all_trip, start_station_name, end_station_name, start_station_id, end_station_id]\n",
       "Index: []"
      ]
     },
     "execution_count": 17,
     "metadata": {},
     "output_type": "execute_result"
    }
   ],
   "source": [
    "bikes_clean[bikes_clean['start_station_id'].isnull()]"
   ]
  },
  {
   "cell_type": "code",
   "execution_count": 18,
   "metadata": {},
   "outputs": [
    {
     "name": "stdout",
     "output_type": "stream",
     "text": [
      "<class 'pandas.core.frame.DataFrame'>\n",
      "Int64Index: 2407259 entries, 0 to 2407258\n",
      "Data columns (total 14 columns):\n",
      " #   Column                   Non-Null Count    Dtype         \n",
      "---  ------                   --------------    -----         \n",
      " 0   duration_sec             2407259 non-null  int64         \n",
      " 1   start_time               2407259 non-null  datetime64[ns]\n",
      " 2   end_time                 2407259 non-null  datetime64[ns]\n",
      " 3   start_station_latitude   2407259 non-null  float64       \n",
      " 4   start_station_longitude  2407259 non-null  float64       \n",
      " 5   end_station_latitude     2407259 non-null  float64       \n",
      " 6   end_station_longitude    2407259 non-null  float64       \n",
      " 7   bike_id                  2407259 non-null  int64         \n",
      " 8   user_type                2407259 non-null  object        \n",
      " 9   bike_share_for_all_trip  2262979 non-null  object        \n",
      " 10  start_station_name       2407259 non-null  object        \n",
      " 11  end_station_name         2407259 non-null  object        \n",
      " 12  start_station_id         2407259 non-null  float64       \n",
      " 13  end_station_id           2407259 non-null  float64       \n",
      "dtypes: datetime64[ns](2), float64(6), int64(2), object(4)\n",
      "memory usage: 275.5+ MB\n"
     ]
    }
   ],
   "source": [
    "#Check for missing values\n",
    "bikes_clean.info(null_counts=True)"
   ]
  },
  {
   "cell_type": "code",
   "execution_count": 19,
   "metadata": {},
   "outputs": [],
   "source": [
    "#start\n",
    "bikes_clean = bikes_clean.merge(stations, left_on='start_station_id', right_on='id', how='inner')\n",
    "bikes_clean.drop(['start_station_name', 'id'], axis=1, inplace=True)\n",
    "bikes_clean.rename(columns={'station_name' : 'start_station_name'}, inplace=True)"
   ]
  },
  {
   "cell_type": "code",
   "execution_count": 20,
   "metadata": {},
   "outputs": [
    {
     "data": {
      "text/html": [
       "<div>\n",
       "<style scoped>\n",
       "    .dataframe tbody tr th:only-of-type {\n",
       "        vertical-align: middle;\n",
       "    }\n",
       "\n",
       "    .dataframe tbody tr th {\n",
       "        vertical-align: top;\n",
       "    }\n",
       "\n",
       "    .dataframe thead th {\n",
       "        text-align: right;\n",
       "    }\n",
       "</style>\n",
       "<table border=\"1\" class=\"dataframe\">\n",
       "  <thead>\n",
       "    <tr style=\"text-align: right;\">\n",
       "      <th></th>\n",
       "      <th>duration_sec</th>\n",
       "      <th>start_time</th>\n",
       "      <th>end_time</th>\n",
       "      <th>start_station_latitude</th>\n",
       "      <th>start_station_longitude</th>\n",
       "      <th>end_station_latitude</th>\n",
       "      <th>end_station_longitude</th>\n",
       "      <th>bike_id</th>\n",
       "      <th>user_type</th>\n",
       "      <th>bike_share_for_all_trip</th>\n",
       "      <th>end_station_name</th>\n",
       "      <th>start_station_id</th>\n",
       "      <th>end_station_id</th>\n",
       "      <th>start_station_name</th>\n",
       "    </tr>\n",
       "  </thead>\n",
       "  <tbody>\n",
       "    <tr>\n",
       "      <th>2015231</th>\n",
       "      <td>346</td>\n",
       "      <td>2019-03-01 18:34:00.360</td>\n",
       "      <td>2019-03-01 18:39:46.534</td>\n",
       "      <td>37.775235</td>\n",
       "      <td>-122.397437</td>\n",
       "      <td>37.783899</td>\n",
       "      <td>-122.408445</td>\n",
       "      <td>5164</td>\n",
       "      <td>Subscriber</td>\n",
       "      <td>No</td>\n",
       "      <td>Powell St BART Station (Market St at 5th St)</td>\n",
       "      <td>80.0</td>\n",
       "      <td>5.0</td>\n",
       "      <td>Townsend St at 5th St</td>\n",
       "    </tr>\n",
       "    <tr>\n",
       "      <th>2216145</th>\n",
       "      <td>382</td>\n",
       "      <td>2019-11-02 18:01:33.915</td>\n",
       "      <td>2019-11-02 18:07:56.908</td>\n",
       "      <td>37.796471</td>\n",
       "      <td>-122.416858</td>\n",
       "      <td>37.804223</td>\n",
       "      <td>-122.401643</td>\n",
       "      <td>10072</td>\n",
       "      <td>Customer</td>\n",
       "      <td>No</td>\n",
       "      <td>Cruise Terminal at Pier 27</td>\n",
       "      <td>398.0</td>\n",
       "      <td>462.0</td>\n",
       "      <td>Leavenworth St at Broadway</td>\n",
       "    </tr>\n",
       "    <tr>\n",
       "      <th>293401</th>\n",
       "      <td>194</td>\n",
       "      <td>2019-01-25 07:52:01.712</td>\n",
       "      <td>2019-01-25 07:55:16.025</td>\n",
       "      <td>37.849595</td>\n",
       "      <td>-122.265569</td>\n",
       "      <td>37.852477</td>\n",
       "      <td>-122.270213</td>\n",
       "      <td>5129</td>\n",
       "      <td>Subscriber</td>\n",
       "      <td>No</td>\n",
       "      <td>Ashby BART Station</td>\n",
       "      <td>168.0</td>\n",
       "      <td>241.0</td>\n",
       "      <td>Alcatraz Ave at Shattuck Ave</td>\n",
       "    </tr>\n",
       "    <tr>\n",
       "      <th>141061</th>\n",
       "      <td>226</td>\n",
       "      <td>2019-03-21 20:18:50.327</td>\n",
       "      <td>2019-03-21 20:22:37.043</td>\n",
       "      <td>37.804562</td>\n",
       "      <td>-122.271738</td>\n",
       "      <td>37.809013</td>\n",
       "      <td>-122.268247</td>\n",
       "      <td>710</td>\n",
       "      <td>Subscriber</td>\n",
       "      <td>No</td>\n",
       "      <td>19th Street BART Station</td>\n",
       "      <td>7.0</td>\n",
       "      <td>182.0</td>\n",
       "      <td>Frank H Ogawa Plaza</td>\n",
       "    </tr>\n",
       "    <tr>\n",
       "      <th>762248</th>\n",
       "      <td>1038</td>\n",
       "      <td>2019-06-27 12:27:51.247</td>\n",
       "      <td>2019-06-27 12:45:10.239</td>\n",
       "      <td>37.786375</td>\n",
       "      <td>-122.404904</td>\n",
       "      <td>37.778768</td>\n",
       "      <td>-122.415929</td>\n",
       "      <td>3417</td>\n",
       "      <td>Customer</td>\n",
       "      <td>No</td>\n",
       "      <td>San Francisco Public Library (Grove St at Hyde...</td>\n",
       "      <td>3.0</td>\n",
       "      <td>43.0</td>\n",
       "      <td>Powell St BART Station (Market St at 4th St)</td>\n",
       "    </tr>\n",
       "    <tr>\n",
       "      <th>2353417</th>\n",
       "      <td>390</td>\n",
       "      <td>2019-09-05 13:28:51.267</td>\n",
       "      <td>2019-09-05 13:35:21.900</td>\n",
       "      <td>37.341132</td>\n",
       "      <td>-121.892844</td>\n",
       "      <td>37.350964</td>\n",
       "      <td>-121.902016</td>\n",
       "      <td>3079</td>\n",
       "      <td>Subscriber</td>\n",
       "      <td>No</td>\n",
       "      <td>Mission St at 1st St</td>\n",
       "      <td>357.0</td>\n",
       "      <td>288.0</td>\n",
       "      <td>2nd St at Julian St</td>\n",
       "    </tr>\n",
       "    <tr>\n",
       "      <th>2292317</th>\n",
       "      <td>2016</td>\n",
       "      <td>2019-12-19 09:10:24.592</td>\n",
       "      <td>2019-12-19 09:44:01.286</td>\n",
       "      <td>37.779488</td>\n",
       "      <td>-122.463142</td>\n",
       "      <td>37.789625</td>\n",
       "      <td>-122.400811</td>\n",
       "      <td>12456</td>\n",
       "      <td>Subscriber</td>\n",
       "      <td>NaN</td>\n",
       "      <td>Montgomery St BART Station (Market St at 2nd St)</td>\n",
       "      <td>466.0</td>\n",
       "      <td>21.0</td>\n",
       "      <td>5th Ave at Anza St</td>\n",
       "    </tr>\n",
       "    <tr>\n",
       "      <th>1639515</th>\n",
       "      <td>1083</td>\n",
       "      <td>2019-04-06 18:03:41.734</td>\n",
       "      <td>2019-04-06 18:21:45.098</td>\n",
       "      <td>37.778650</td>\n",
       "      <td>-122.418230</td>\n",
       "      <td>37.756708</td>\n",
       "      <td>-122.421025</td>\n",
       "      <td>1453</td>\n",
       "      <td>Customer</td>\n",
       "      <td>No</td>\n",
       "      <td>Valencia St at 21st St</td>\n",
       "      <td>42.0</td>\n",
       "      <td>127.0</td>\n",
       "      <td>San Francisco City Hall (Polk St at Grove St)</td>\n",
       "    </tr>\n",
       "    <tr>\n",
       "      <th>1974896</th>\n",
       "      <td>497</td>\n",
       "      <td>2019-04-22 09:53:41.736</td>\n",
       "      <td>2019-04-22 10:01:58.953</td>\n",
       "      <td>37.791464</td>\n",
       "      <td>-122.391034</td>\n",
       "      <td>37.775880</td>\n",
       "      <td>-122.393170</td>\n",
       "      <td>1677</td>\n",
       "      <td>Subscriber</td>\n",
       "      <td>No</td>\n",
       "      <td>Berry St at 4th St</td>\n",
       "      <td>23.0</td>\n",
       "      <td>81.0</td>\n",
       "      <td>The Embarcadero at Steuart St</td>\n",
       "    </tr>\n",
       "    <tr>\n",
       "      <th>1889224</th>\n",
       "      <td>542</td>\n",
       "      <td>2019-10-03 10:55:58.968</td>\n",
       "      <td>2019-10-03 11:05:01.102</td>\n",
       "      <td>37.788300</td>\n",
       "      <td>-122.408531</td>\n",
       "      <td>37.797280</td>\n",
       "      <td>-122.398436</td>\n",
       "      <td>2857</td>\n",
       "      <td>Subscriber</td>\n",
       "      <td>No</td>\n",
       "      <td>Davis St at Jackson St</td>\n",
       "      <td>324.0</td>\n",
       "      <td>11.0</td>\n",
       "      <td>Union Square (Powell St at Post St)</td>\n",
       "    </tr>\n",
       "  </tbody>\n",
       "</table>\n",
       "</div>"
      ],
      "text/plain": [
       "         duration_sec              start_time                end_time  \\\n",
       "2015231           346 2019-03-01 18:34:00.360 2019-03-01 18:39:46.534   \n",
       "2216145           382 2019-11-02 18:01:33.915 2019-11-02 18:07:56.908   \n",
       "293401            194 2019-01-25 07:52:01.712 2019-01-25 07:55:16.025   \n",
       "141061            226 2019-03-21 20:18:50.327 2019-03-21 20:22:37.043   \n",
       "762248           1038 2019-06-27 12:27:51.247 2019-06-27 12:45:10.239   \n",
       "2353417           390 2019-09-05 13:28:51.267 2019-09-05 13:35:21.900   \n",
       "2292317          2016 2019-12-19 09:10:24.592 2019-12-19 09:44:01.286   \n",
       "1639515          1083 2019-04-06 18:03:41.734 2019-04-06 18:21:45.098   \n",
       "1974896           497 2019-04-22 09:53:41.736 2019-04-22 10:01:58.953   \n",
       "1889224           542 2019-10-03 10:55:58.968 2019-10-03 11:05:01.102   \n",
       "\n",
       "         start_station_latitude  start_station_longitude  \\\n",
       "2015231               37.775235              -122.397437   \n",
       "2216145               37.796471              -122.416858   \n",
       "293401                37.849595              -122.265569   \n",
       "141061                37.804562              -122.271738   \n",
       "762248                37.786375              -122.404904   \n",
       "2353417               37.341132              -121.892844   \n",
       "2292317               37.779488              -122.463142   \n",
       "1639515               37.778650              -122.418230   \n",
       "1974896               37.791464              -122.391034   \n",
       "1889224               37.788300              -122.408531   \n",
       "\n",
       "         end_station_latitude  end_station_longitude  bike_id   user_type  \\\n",
       "2015231             37.783899            -122.408445     5164  Subscriber   \n",
       "2216145             37.804223            -122.401643    10072    Customer   \n",
       "293401              37.852477            -122.270213     5129  Subscriber   \n",
       "141061              37.809013            -122.268247      710  Subscriber   \n",
       "762248              37.778768            -122.415929     3417    Customer   \n",
       "2353417             37.350964            -121.902016     3079  Subscriber   \n",
       "2292317             37.789625            -122.400811    12456  Subscriber   \n",
       "1639515             37.756708            -122.421025     1453    Customer   \n",
       "1974896             37.775880            -122.393170     1677  Subscriber   \n",
       "1889224             37.797280            -122.398436     2857  Subscriber   \n",
       "\n",
       "        bike_share_for_all_trip  \\\n",
       "2015231                      No   \n",
       "2216145                      No   \n",
       "293401                       No   \n",
       "141061                       No   \n",
       "762248                       No   \n",
       "2353417                      No   \n",
       "2292317                     NaN   \n",
       "1639515                      No   \n",
       "1974896                      No   \n",
       "1889224                      No   \n",
       "\n",
       "                                          end_station_name  start_station_id  \\\n",
       "2015231       Powell St BART Station (Market St at 5th St)              80.0   \n",
       "2216145                         Cruise Terminal at Pier 27             398.0   \n",
       "293401                                  Ashby BART Station             168.0   \n",
       "141061                            19th Street BART Station               7.0   \n",
       "762248   San Francisco Public Library (Grove St at Hyde...               3.0   \n",
       "2353417                               Mission St at 1st St             357.0   \n",
       "2292317   Montgomery St BART Station (Market St at 2nd St)             466.0   \n",
       "1639515                             Valencia St at 21st St              42.0   \n",
       "1974896                                 Berry St at 4th St              23.0   \n",
       "1889224                             Davis St at Jackson St             324.0   \n",
       "\n",
       "         end_station_id                             start_station_name  \n",
       "2015231             5.0                          Townsend St at 5th St  \n",
       "2216145           462.0                     Leavenworth St at Broadway  \n",
       "293401            241.0                   Alcatraz Ave at Shattuck Ave  \n",
       "141061            182.0                            Frank H Ogawa Plaza  \n",
       "762248             43.0   Powell St BART Station (Market St at 4th St)  \n",
       "2353417           288.0                            2nd St at Julian St  \n",
       "2292317            21.0                             5th Ave at Anza St  \n",
       "1639515           127.0  San Francisco City Hall (Polk St at Grove St)  \n",
       "1974896            81.0                  The Embarcadero at Steuart St  \n",
       "1889224            11.0            Union Square (Powell St at Post St)  "
      ]
     },
     "execution_count": 20,
     "metadata": {},
     "output_type": "execute_result"
    }
   ],
   "source": [
    "#Check a few samples to see whether the update was correct\n",
    "bikes_clean.sample(10)"
   ]
  },
  {
   "cell_type": "code",
   "execution_count": 21,
   "metadata": {},
   "outputs": [
    {
     "data": {
      "text/plain": [
       "Folsom St at 2nd St    10532\n",
       "Name: start_station_name, dtype: int64"
      ]
     },
     "execution_count": 21,
     "metadata": {},
     "output_type": "execute_result"
    }
   ],
   "source": [
    "#Check a few ids manually to see whether they are consistent in the name columns\n",
    "bikes_clean.start_station_name[bikes_clean['start_station_id'] == 37.0].value_counts()"
   ]
  },
  {
   "cell_type": "markdown",
   "metadata": {},
   "source": [
    "### Define 3):\n",
    "Data Type for the following columns need to be changed\n",
    "\n",
    "**to integer:**\n",
    "   \n",
    "        1) start_station_id\n",
    "        2) end_station_id\n",
    "        \n",
    "**to category:**\n",
    "\n",
    "        3) bike_share_for_all_trip\n",
    "        4) user_type"
   ]
  },
  {
   "cell_type": "markdown",
   "metadata": {},
   "source": [
    "### Code 3):"
   ]
  },
  {
   "cell_type": "code",
   "execution_count": 22,
   "metadata": {},
   "outputs": [],
   "source": [
    "#updating start and end station id columns to integer\n",
    "bikes_clean[['start_station_id', 'end_station_id']] = bikes_clean[['start_station_id', 'end_station_id']].astype('int')"
   ]
  },
  {
   "cell_type": "code",
   "execution_count": 23,
   "metadata": {},
   "outputs": [],
   "source": [
    "#updating bike_share_for_all_trip and user_type to category\n",
    "bikes_clean[['bike_share_for_all_trip', 'user_type']] = bikes_clean[['bike_share_for_all_trip', 'user_type']].astype('category')"
   ]
  },
  {
   "cell_type": "markdown",
   "metadata": {},
   "source": [
    "### Test 3):"
   ]
  },
  {
   "cell_type": "code",
   "execution_count": 24,
   "metadata": {
    "scrolled": true
   },
   "outputs": [
    {
     "name": "stdout",
     "output_type": "stream",
     "text": [
      "<class 'pandas.core.frame.DataFrame'>\n",
      "Int64Index: 2407259 entries, 0 to 2407258\n",
      "Data columns (total 14 columns):\n",
      " #   Column                   Non-Null Count    Dtype         \n",
      "---  ------                   --------------    -----         \n",
      " 0   duration_sec             2407259 non-null  int64         \n",
      " 1   start_time               2407259 non-null  datetime64[ns]\n",
      " 2   end_time                 2407259 non-null  datetime64[ns]\n",
      " 3   start_station_latitude   2407259 non-null  float64       \n",
      " 4   start_station_longitude  2407259 non-null  float64       \n",
      " 5   end_station_latitude     2407259 non-null  float64       \n",
      " 6   end_station_longitude    2407259 non-null  float64       \n",
      " 7   bike_id                  2407259 non-null  int64         \n",
      " 8   user_type                2407259 non-null  category      \n",
      " 9   bike_share_for_all_trip  2262979 non-null  category      \n",
      " 10  end_station_name         2407259 non-null  object        \n",
      " 11  start_station_id         2407259 non-null  int32         \n",
      " 12  end_station_id           2407259 non-null  int32         \n",
      " 13  start_station_name       2407259 non-null  object        \n",
      "dtypes: category(2), datetime64[ns](2), float64(4), int32(2), int64(2), object(2)\n",
      "memory usage: 225.0+ MB\n"
     ]
    }
   ],
   "source": [
    "#Check if data type updates were executed correctly\n",
    "bikes_clean.info(null_counts=True)"
   ]
  },
  {
   "cell_type": "markdown",
   "metadata": {},
   "source": [
    "### Define 4):\n",
    "\n",
    "bike_share_for_all_trip column has missing values\n",
    "\n",
    "Column not important for the analysis, so I don't drop records. I also decided to not drop the column at this stage, as I might decide to use it later during the analysis. In that case, I'll re-evaluate this point."
   ]
  },
  {
   "cell_type": "markdown",
   "metadata": {},
   "source": [
    "### Define 5):\n",
    "Creating separate columns for month name, month_number, weekday, day, hour etc to make the analysis later easier."
   ]
  },
  {
   "cell_type": "code",
   "execution_count": 25,
   "metadata": {},
   "outputs": [],
   "source": [
    "#Break up start_time column to make the analysis easier\n",
    "bikes_clean['month_name_start']=bikes_clean['start_time'].dt.strftime('%b')\n",
    "bikes_clean['month_number_start']=bikes_clean['start_time'].dt.month.astype(int)\n",
    "bikes_clean['weekday_start']=bikes_clean['start_time'].dt.strftime('%a')\n",
    "bikes_clean['day_start']=bikes_clean['start_time'].dt.day.astype(int)\n",
    "bikes_clean['hour_start']=bikes_clean['start_time'].dt.hour"
   ]
  },
  {
   "cell_type": "code",
   "execution_count": 26,
   "metadata": {},
   "outputs": [],
   "source": [
    "#Converting month and day names into order types\n",
    "month_order = ['Jan', 'Feb', 'Mar', 'Apr', 'May', 'Jun','Jul','Aug', 'Sep', 'Oct', 'Nov', 'Dec']\n",
    "ordered_month = pd.api.types.CategoricalDtype(ordered = True, categories = month_order)\n",
    "bikes_clean['month_name_start'] = bikes_clean['month_name_start'].astype(ordered_month)\n",
    "\n",
    "weekday_order = ['Mon', 'Tue', 'Wed', 'Thu', 'Fri', 'Sat','Sun']\n",
    "ordered_weekday = pd.api.types.CategoricalDtype(ordered = True, categories = weekday_order)\n",
    "bikes_clean['weekday_start'] = bikes_clean['weekday_start'].astype(ordered_weekday)\n",
    "\n"
   ]
  },
  {
   "cell_type": "markdown",
   "metadata": {},
   "source": [
    "### Test 5):"
   ]
  },
  {
   "cell_type": "code",
   "execution_count": 27,
   "metadata": {},
   "outputs": [
    {
     "data": {
      "text/html": [
       "<div>\n",
       "<style scoped>\n",
       "    .dataframe tbody tr th:only-of-type {\n",
       "        vertical-align: middle;\n",
       "    }\n",
       "\n",
       "    .dataframe tbody tr th {\n",
       "        vertical-align: top;\n",
       "    }\n",
       "\n",
       "    .dataframe thead th {\n",
       "        text-align: right;\n",
       "    }\n",
       "</style>\n",
       "<table border=\"1\" class=\"dataframe\">\n",
       "  <thead>\n",
       "    <tr style=\"text-align: right;\">\n",
       "      <th></th>\n",
       "      <th>duration_sec</th>\n",
       "      <th>start_time</th>\n",
       "      <th>end_time</th>\n",
       "      <th>start_station_latitude</th>\n",
       "      <th>start_station_longitude</th>\n",
       "      <th>end_station_latitude</th>\n",
       "      <th>end_station_longitude</th>\n",
       "      <th>bike_id</th>\n",
       "      <th>user_type</th>\n",
       "      <th>bike_share_for_all_trip</th>\n",
       "      <th>end_station_name</th>\n",
       "      <th>start_station_id</th>\n",
       "      <th>end_station_id</th>\n",
       "      <th>start_station_name</th>\n",
       "      <th>month_name_start</th>\n",
       "      <th>month_number_start</th>\n",
       "      <th>weekday_start</th>\n",
       "      <th>day_start</th>\n",
       "      <th>hour_start</th>\n",
       "    </tr>\n",
       "  </thead>\n",
       "  <tbody>\n",
       "    <tr>\n",
       "      <th>0</th>\n",
       "      <td>80825</td>\n",
       "      <td>2019-01-31 17:57:44.613</td>\n",
       "      <td>2019-02-01 16:24:49.864</td>\n",
       "      <td>37.775745</td>\n",
       "      <td>-122.213037</td>\n",
       "      <td>37.808894</td>\n",
       "      <td>-122.256460</td>\n",
       "      <td>4861</td>\n",
       "      <td>Subscriber</td>\n",
       "      <td>No</td>\n",
       "      <td>Grand Ave at Perkins St</td>\n",
       "      <td>229</td>\n",
       "      <td>196</td>\n",
       "      <td>Foothill Blvd at 42nd Ave</td>\n",
       "      <td>Jan</td>\n",
       "      <td>1</td>\n",
       "      <td>Thu</td>\n",
       "      <td>31</td>\n",
       "      <td>17</td>\n",
       "    </tr>\n",
       "    <tr>\n",
       "      <th>1</th>\n",
       "      <td>389</td>\n",
       "      <td>2019-01-31 18:00:04.711</td>\n",
       "      <td>2019-01-31 18:06:33.738</td>\n",
       "      <td>37.775745</td>\n",
       "      <td>-122.213037</td>\n",
       "      <td>37.775232</td>\n",
       "      <td>-122.224498</td>\n",
       "      <td>1305</td>\n",
       "      <td>Subscriber</td>\n",
       "      <td>No</td>\n",
       "      <td>Fruitvale BART Station</td>\n",
       "      <td>229</td>\n",
       "      <td>237</td>\n",
       "      <td>Foothill Blvd at 42nd Ave</td>\n",
       "      <td>Jan</td>\n",
       "      <td>1</td>\n",
       "      <td>Thu</td>\n",
       "      <td>31</td>\n",
       "      <td>18</td>\n",
       "    </tr>\n",
       "    <tr>\n",
       "      <th>2</th>\n",
       "      <td>321</td>\n",
       "      <td>2019-01-31 08:37:48.350</td>\n",
       "      <td>2019-01-31 08:43:09.425</td>\n",
       "      <td>37.775745</td>\n",
       "      <td>-122.213037</td>\n",
       "      <td>37.775232</td>\n",
       "      <td>-122.224498</td>\n",
       "      <td>5119</td>\n",
       "      <td>Subscriber</td>\n",
       "      <td>No</td>\n",
       "      <td>Fruitvale BART Station</td>\n",
       "      <td>229</td>\n",
       "      <td>237</td>\n",
       "      <td>Foothill Blvd at 42nd Ave</td>\n",
       "      <td>Jan</td>\n",
       "      <td>1</td>\n",
       "      <td>Thu</td>\n",
       "      <td>31</td>\n",
       "      <td>8</td>\n",
       "    </tr>\n",
       "    <tr>\n",
       "      <th>3</th>\n",
       "      <td>334</td>\n",
       "      <td>2019-01-30 08:34:48.540</td>\n",
       "      <td>2019-01-30 08:40:22.599</td>\n",
       "      <td>37.775745</td>\n",
       "      <td>-122.213037</td>\n",
       "      <td>37.775232</td>\n",
       "      <td>-122.224498</td>\n",
       "      <td>5067</td>\n",
       "      <td>Subscriber</td>\n",
       "      <td>No</td>\n",
       "      <td>Fruitvale BART Station</td>\n",
       "      <td>229</td>\n",
       "      <td>237</td>\n",
       "      <td>Foothill Blvd at 42nd Ave</td>\n",
       "      <td>Jan</td>\n",
       "      <td>1</td>\n",
       "      <td>Wed</td>\n",
       "      <td>30</td>\n",
       "      <td>8</td>\n",
       "    </tr>\n",
       "    <tr>\n",
       "      <th>4</th>\n",
       "      <td>329</td>\n",
       "      <td>2019-01-29 18:43:08.401</td>\n",
       "      <td>2019-01-29 18:48:37.753</td>\n",
       "      <td>37.775745</td>\n",
       "      <td>-122.213037</td>\n",
       "      <td>37.775232</td>\n",
       "      <td>-122.224498</td>\n",
       "      <td>4589</td>\n",
       "      <td>Subscriber</td>\n",
       "      <td>No</td>\n",
       "      <td>Fruitvale BART Station</td>\n",
       "      <td>229</td>\n",
       "      <td>237</td>\n",
       "      <td>Foothill Blvd at 42nd Ave</td>\n",
       "      <td>Jan</td>\n",
       "      <td>1</td>\n",
       "      <td>Tue</td>\n",
       "      <td>29</td>\n",
       "      <td>18</td>\n",
       "    </tr>\n",
       "  </tbody>\n",
       "</table>\n",
       "</div>"
      ],
      "text/plain": [
       "   duration_sec              start_time                end_time  \\\n",
       "0         80825 2019-01-31 17:57:44.613 2019-02-01 16:24:49.864   \n",
       "1           389 2019-01-31 18:00:04.711 2019-01-31 18:06:33.738   \n",
       "2           321 2019-01-31 08:37:48.350 2019-01-31 08:43:09.425   \n",
       "3           334 2019-01-30 08:34:48.540 2019-01-30 08:40:22.599   \n",
       "4           329 2019-01-29 18:43:08.401 2019-01-29 18:48:37.753   \n",
       "\n",
       "   start_station_latitude  start_station_longitude  end_station_latitude  \\\n",
       "0               37.775745              -122.213037             37.808894   \n",
       "1               37.775745              -122.213037             37.775232   \n",
       "2               37.775745              -122.213037             37.775232   \n",
       "3               37.775745              -122.213037             37.775232   \n",
       "4               37.775745              -122.213037             37.775232   \n",
       "\n",
       "   end_station_longitude  bike_id   user_type bike_share_for_all_trip  \\\n",
       "0            -122.256460     4861  Subscriber                      No   \n",
       "1            -122.224498     1305  Subscriber                      No   \n",
       "2            -122.224498     5119  Subscriber                      No   \n",
       "3            -122.224498     5067  Subscriber                      No   \n",
       "4            -122.224498     4589  Subscriber                      No   \n",
       "\n",
       "          end_station_name  start_station_id  end_station_id  \\\n",
       "0  Grand Ave at Perkins St               229             196   \n",
       "1   Fruitvale BART Station               229             237   \n",
       "2   Fruitvale BART Station               229             237   \n",
       "3   Fruitvale BART Station               229             237   \n",
       "4   Fruitvale BART Station               229             237   \n",
       "\n",
       "          start_station_name month_name_start  month_number_start  \\\n",
       "0  Foothill Blvd at 42nd Ave              Jan                   1   \n",
       "1  Foothill Blvd at 42nd Ave              Jan                   1   \n",
       "2  Foothill Blvd at 42nd Ave              Jan                   1   \n",
       "3  Foothill Blvd at 42nd Ave              Jan                   1   \n",
       "4  Foothill Blvd at 42nd Ave              Jan                   1   \n",
       "\n",
       "  weekday_start  day_start  hour_start  \n",
       "0           Thu         31          17  \n",
       "1           Thu         31          18  \n",
       "2           Thu         31           8  \n",
       "3           Wed         30           8  \n",
       "4           Tue         29          18  "
      ]
     },
     "execution_count": 27,
     "metadata": {},
     "output_type": "execute_result"
    }
   ],
   "source": [
    "bikes_clean.head()"
   ]
  },
  {
   "cell_type": "markdown",
   "metadata": {},
   "source": [
    "### What is the structure of your dataset?\n",
    "\n",
    "\n",
    "\n",
    "    After cleaning up, we have 2407259 unique trips recorded in the combined dataset for 2019.\n",
    "    Each trip is anonymized and includes the following columns with a mix of numeric, categorical and string data types.\n",
    "\n",
    "        Trip Duration (seconds)\n",
    "        Start Time and Date\n",
    "        End Time and Date\n",
    "        Start Station ID\n",
    "        Start Station Name\n",
    "        Start Station Latitude\n",
    "        Start Station Longitude\n",
    "        End Station ID\n",
    "        End Station Name\n",
    "        End Station Latitude\n",
    "        End Station Longitude\n",
    "        Bike ID\n",
    "        User Type (Subscriber or Customer – “Subscriber” = Member or “Customer” = Casual)\n",
    "\n",
    "    Separate monthly data files were downloaded from the following url before combining them into 1 master dataframe:\n",
    "    https://www.lyft.com/bikes/bay-wheels/system-data\n",
    "\n",
    "\n",
    "### What is/are the main feature(s) of interest in your dataset?\n",
    "\n",
    "       1) I will attempt to find out what are the busiest periods yearly, monthly, weekly and daily.\n",
    "       \n",
    "       2) What kind of different riding patterns the different user_groups does have?\n",
    "\n",
    "       3) Are there any spatial relationships between the riding patterns?\n",
    "  \n",
    "\n",
    "### What features in the dataset do you think will help support your investigation into your feature(s) of interest?\n",
    "\n",
    "          1) Answer the first question I will need to use the week, day, and hour columns to break up the trips \n",
    "             into different periods.\n",
    "          \n",
    "          2) On top of the data features I will also use the Trip Duration column to reveal some patterns.\n",
    "          \n",
    "          3) I will also extend my analysis based on the latitude and longitudes to see whether there are any spatial \n",
    "             patterns in the data\n",
    "          \n",
    "          4) I will add the user_type to my variable to see how the different user types have different riding patterns.\n",
    "          \n",
    "          "
   ]
  },
  {
   "cell_type": "markdown",
   "metadata": {},
   "source": [
    "## Univariate Exploration\n",
    "\n",
    "> In this section, investigate distributions of individual variables. If\n",
    "you see unusual points or outliers, take a deeper look to clean things up\n",
    "and prepare yourself to look at relationships between variables."
   ]
  },
  {
   "cell_type": "code",
   "execution_count": 28,
   "metadata": {},
   "outputs": [
    {
     "data": {
      "text/html": [
       "<div>\n",
       "<style scoped>\n",
       "    .dataframe tbody tr th:only-of-type {\n",
       "        vertical-align: middle;\n",
       "    }\n",
       "\n",
       "    .dataframe tbody tr th {\n",
       "        vertical-align: top;\n",
       "    }\n",
       "\n",
       "    .dataframe thead th {\n",
       "        text-align: right;\n",
       "    }\n",
       "</style>\n",
       "<table border=\"1\" class=\"dataframe\">\n",
       "  <thead>\n",
       "    <tr style=\"text-align: right;\">\n",
       "      <th></th>\n",
       "      <th>duration_sec</th>\n",
       "      <th>start_station_latitude</th>\n",
       "      <th>start_station_longitude</th>\n",
       "      <th>end_station_latitude</th>\n",
       "      <th>end_station_longitude</th>\n",
       "      <th>bike_id</th>\n",
       "      <th>start_station_id</th>\n",
       "      <th>end_station_id</th>\n",
       "      <th>month_number_start</th>\n",
       "      <th>day_start</th>\n",
       "      <th>hour_start</th>\n",
       "    </tr>\n",
       "  </thead>\n",
       "  <tbody>\n",
       "    <tr>\n",
       "      <th>count</th>\n",
       "      <td>2.407259e+06</td>\n",
       "      <td>2.407259e+06</td>\n",
       "      <td>2.407259e+06</td>\n",
       "      <td>2.407259e+06</td>\n",
       "      <td>2.407259e+06</td>\n",
       "      <td>2.407259e+06</td>\n",
       "      <td>2.407259e+06</td>\n",
       "      <td>2.407259e+06</td>\n",
       "      <td>2.407259e+06</td>\n",
       "      <td>2.407259e+06</td>\n",
       "      <td>2.407259e+06</td>\n",
       "    </tr>\n",
       "    <tr>\n",
       "      <th>mean</th>\n",
       "      <td>8.048171e+02</td>\n",
       "      <td>3.776938e+01</td>\n",
       "      <td>-1.223547e+02</td>\n",
       "      <td>3.776852e+01</td>\n",
       "      <td>-1.223505e+02</td>\n",
       "      <td>9.290408e+03</td>\n",
       "      <td>1.462493e+02</td>\n",
       "      <td>1.424856e+02</td>\n",
       "      <td>6.322958e+00</td>\n",
       "      <td>1.558986e+01</td>\n",
       "      <td>1.351664e+01</td>\n",
       "    </tr>\n",
       "    <tr>\n",
       "      <th>std</th>\n",
       "      <td>1.910718e+03</td>\n",
       "      <td>1.034811e-01</td>\n",
       "      <td>1.607865e-01</td>\n",
       "      <td>2.244698e-01</td>\n",
       "      <td>6.650935e-01</td>\n",
       "      <td>5.046242e+04</td>\n",
       "      <td>1.221971e+02</td>\n",
       "      <td>1.213367e+02</td>\n",
       "      <td>3.341744e+00</td>\n",
       "      <td>8.660494e+00</td>\n",
       "      <td>4.801285e+00</td>\n",
       "    </tr>\n",
       "    <tr>\n",
       "      <th>min</th>\n",
       "      <td>6.000000e+01</td>\n",
       "      <td>0.000000e+00</td>\n",
       "      <td>-1.224952e+02</td>\n",
       "      <td>0.000000e+00</td>\n",
       "      <td>-1.224952e+02</td>\n",
       "      <td>4.000000e+00</td>\n",
       "      <td>3.000000e+00</td>\n",
       "      <td>3.000000e+00</td>\n",
       "      <td>1.000000e+00</td>\n",
       "      <td>1.000000e+00</td>\n",
       "      <td>0.000000e+00</td>\n",
       "    </tr>\n",
       "    <tr>\n",
       "      <th>25%</th>\n",
       "      <td>3.580000e+02</td>\n",
       "      <td>3.777003e+01</td>\n",
       "      <td>-1.224130e+02</td>\n",
       "      <td>3.777041e+01</td>\n",
       "      <td>-1.224116e+02</td>\n",
       "      <td>1.877000e+03</td>\n",
       "      <td>4.700000e+01</td>\n",
       "      <td>4.200000e+01</td>\n",
       "      <td>3.000000e+00</td>\n",
       "      <td>8.000000e+00</td>\n",
       "      <td>9.000000e+00</td>\n",
       "    </tr>\n",
       "    <tr>\n",
       "      <th>50%</th>\n",
       "      <td>5.690000e+02</td>\n",
       "      <td>3.778053e+01</td>\n",
       "      <td>-1.223984e+02</td>\n",
       "      <td>3.778076e+01</td>\n",
       "      <td>-1.223981e+02</td>\n",
       "      <td>3.727000e+03</td>\n",
       "      <td>1.040000e+02</td>\n",
       "      <td>1.010000e+02</td>\n",
       "      <td>6.000000e+00</td>\n",
       "      <td>1.500000e+01</td>\n",
       "      <td>1.400000e+01</td>\n",
       "    </tr>\n",
       "    <tr>\n",
       "      <th>75%</th>\n",
       "      <td>8.830000e+02</td>\n",
       "      <td>3.779539e+01</td>\n",
       "      <td>-1.222948e+02</td>\n",
       "      <td>3.779625e+01</td>\n",
       "      <td>-1.222948e+02</td>\n",
       "      <td>7.171000e+03</td>\n",
       "      <td>2.420000e+02</td>\n",
       "      <td>2.390000e+02</td>\n",
       "      <td>9.000000e+00</td>\n",
       "      <td>2.300000e+01</td>\n",
       "      <td>1.700000e+01</td>\n",
       "    </tr>\n",
       "    <tr>\n",
       "      <th>max</th>\n",
       "      <td>8.623000e+04</td>\n",
       "      <td>4.551000e+01</td>\n",
       "      <td>0.000000e+00</td>\n",
       "      <td>4.551000e+01</td>\n",
       "      <td>0.000000e+00</td>\n",
       "      <td>9.984300e+05</td>\n",
       "      <td>4.980000e+02</td>\n",
       "      <td>4.980000e+02</td>\n",
       "      <td>1.200000e+01</td>\n",
       "      <td>3.100000e+01</td>\n",
       "      <td>2.300000e+01</td>\n",
       "    </tr>\n",
       "  </tbody>\n",
       "</table>\n",
       "</div>"
      ],
      "text/plain": [
       "       duration_sec  start_station_latitude  start_station_longitude  \\\n",
       "count  2.407259e+06            2.407259e+06             2.407259e+06   \n",
       "mean   8.048171e+02            3.776938e+01            -1.223547e+02   \n",
       "std    1.910718e+03            1.034811e-01             1.607865e-01   \n",
       "min    6.000000e+01            0.000000e+00            -1.224952e+02   \n",
       "25%    3.580000e+02            3.777003e+01            -1.224130e+02   \n",
       "50%    5.690000e+02            3.778053e+01            -1.223984e+02   \n",
       "75%    8.830000e+02            3.779539e+01            -1.222948e+02   \n",
       "max    8.623000e+04            4.551000e+01             0.000000e+00   \n",
       "\n",
       "       end_station_latitude  end_station_longitude       bike_id  \\\n",
       "count          2.407259e+06           2.407259e+06  2.407259e+06   \n",
       "mean           3.776852e+01          -1.223505e+02  9.290408e+03   \n",
       "std            2.244698e-01           6.650935e-01  5.046242e+04   \n",
       "min            0.000000e+00          -1.224952e+02  4.000000e+00   \n",
       "25%            3.777041e+01          -1.224116e+02  1.877000e+03   \n",
       "50%            3.778076e+01          -1.223981e+02  3.727000e+03   \n",
       "75%            3.779625e+01          -1.222948e+02  7.171000e+03   \n",
       "max            4.551000e+01           0.000000e+00  9.984300e+05   \n",
       "\n",
       "       start_station_id  end_station_id  month_number_start     day_start  \\\n",
       "count      2.407259e+06    2.407259e+06        2.407259e+06  2.407259e+06   \n",
       "mean       1.462493e+02    1.424856e+02        6.322958e+00  1.558986e+01   \n",
       "std        1.221971e+02    1.213367e+02        3.341744e+00  8.660494e+00   \n",
       "min        3.000000e+00    3.000000e+00        1.000000e+00  1.000000e+00   \n",
       "25%        4.700000e+01    4.200000e+01        3.000000e+00  8.000000e+00   \n",
       "50%        1.040000e+02    1.010000e+02        6.000000e+00  1.500000e+01   \n",
       "75%        2.420000e+02    2.390000e+02        9.000000e+00  2.300000e+01   \n",
       "max        4.980000e+02    4.980000e+02        1.200000e+01  3.100000e+01   \n",
       "\n",
       "         hour_start  \n",
       "count  2.407259e+06  \n",
       "mean   1.351664e+01  \n",
       "std    4.801285e+00  \n",
       "min    0.000000e+00  \n",
       "25%    9.000000e+00  \n",
       "50%    1.400000e+01  \n",
       "75%    1.700000e+01  \n",
       "max    2.300000e+01  "
      ]
     },
     "execution_count": 28,
     "metadata": {},
     "output_type": "execute_result"
    }
   ],
   "source": [
    "bikes_clean.describe()"
   ]
  },
  {
   "cell_type": "markdown",
   "metadata": {},
   "source": [
    "### Distribution of user types\n",
    "Let's look at how the number of rides are split between the different user types"
   ]
  },
  {
   "cell_type": "code",
   "execution_count": 29,
   "metadata": {},
   "outputs": [
    {
     "data": {
      "image/png": "[encoded data removed]",
      "text/plain": [
       "<Figure size 432x288 with 1 Axes>"
      ]
     },
     "metadata": {},
     "output_type": "display_data"
    }
   ],
   "source": [
    "user_types = bikes_clean.user_type.value_counts()\n",
    "plt.pie(user_types, startangle=90, labels=user_types.index, autopct='%.1f%%');\n"
   ]
  },
  {
   "cell_type": "markdown",
   "metadata": {},
   "source": [
    "More than 80% of the users are subscribers, and only 20% are Customer.\n",
    "\n",
    "Let's see how the length of the rides are distributed for the two user types to see whether we can observe any difference\n",
    "\n",
    "### Distribution of Ride Lengths"
   ]
  },
  {
   "cell_type": "code",
   "execution_count": 30,
   "metadata": {},
   "outputs": [
    {
     "data": {
      "image/png": "[encoded data removed]",
      "text/plain": [
       "<Figure size 432x288 with 1 Axes>"
      ]
     },
     "metadata": {
      "needs_background": "light"
     },
     "output_type": "display_data"
    }
   ],
   "source": [
    "plt.hist(bikes_clean.query('duration_sec < 5000')['duration_sec'], bins=100);"
   ]
  },
  {
   "cell_type": "markdown",
   "metadata": {},
   "source": [
    "The distribution is extremely skewed to the right, with the majority of the datapoints fall into the left extreme of the range, we still have a number of large and some extremely large values. This results in a very long tail to the left, which I had to cut off to focust more to the more dense areas to the plot.\n",
    "\n",
    "Let's apply a log transformation on the data instead limiting the x axis."
   ]
  },
  {
   "cell_type": "code",
   "execution_count": 31,
   "metadata": {},
   "outputs": [
    {
     "data": {
      "image/png": "[encoded data removed]",
      "text/plain": [
       "<Figure size 432x288 with 1 Axes>"
      ]
     },
     "metadata": {
      "needs_background": "light"
     },
     "output_type": "display_data"
    }
   ],
   "source": [
    "plt.hist(np.log10(bikes_clean['duration_sec']), bins=100);\n",
    "\n",
    "#Creating more readable tick labels for the log transformed x-axes\n",
    "tick_locs = [100, 500, 1000, 5000, 10000, 50000]\n",
    "plt.xticks(np.log10(tick_locs), tick_locs, rotation=30);"
   ]
  },
  {
   "cell_type": "markdown",
   "metadata": {},
   "source": [
    "I've applied log transformation on the data so that I can observe the full dataset without limiting the x axis.\n",
    "Also after the log transformation the data resembles a normal distribution much more.\n",
    "\n",
    "We can read that the typical bike ride takes around 10 minuts (5-700 seconds), with some very short, and some xtremely long rides up to 24hours hours (~8600sec)\n",
    "\n",
    "Let's now visualize the summary statistis for the same distribution"
   ]
  },
  {
   "cell_type": "code",
   "execution_count": 32,
   "metadata": {},
   "outputs": [
    {
     "data": {
      "image/png": "[encoded data removed]",
      "text/plain": [
       "<Figure size 180x504 with 1 Axes>"
      ]
     },
     "metadata": {
      "needs_background": "light"
     },
     "output_type": "display_data"
    }
   ],
   "source": [
    "#Setting figure size and aspect\n",
    "f, ax = plt.subplots(figsize=(2.5, 7))\n",
    "\n",
    "#Applying log transformation on axes\n",
    "ax.set_yscale(\"log\")\n",
    "sb.boxplot(y=bikes_clean['duration_sec'])\n",
    "\n",
    "#Creating more readable tick labels for the log transformed x-axes\n",
    "tick_locs = [100, 500, 1000, 5000, 10000, 50000, 100000]\n",
    "plt.yticks(tick_locs, tick_locs);"
   ]
  },
  {
   "cell_type": "markdown",
   "metadata": {},
   "source": [
    "I've applied a log transformation on the boxplot as well, for the same reason.\n",
    "The above boxplot reinforces our observation. The typical ride length falls slightly above 500sec.\n",
    "The majority of the rides falls between 250 and 900 seconds (4-10 minutes), and the typical ride is not longer 2000 seconds (~30min).\n",
    "We also see that we have a number of extreme outlyers ranging up until 80-90k sec (24h).\n",
    "\n",
    "This means, the average user uses the service for tipically short rides.\n",
    "\n",
    "\n",
    "After understanding the distribution of the ride length, let's now take a look at how the number of rides are distributed across different timeframes.\n",
    "\n",
    "### Time distributions\n",
    "\n",
    "First let's look at number of rides over months.\n",
    "##### Rides over months"
   ]
  },
  {
   "cell_type": "code",
   "execution_count": 33,
   "metadata": {},
   "outputs": [
    {
     "data": {
      "image/png": "[encoded data removed]",
      "text/plain": [
       "<Figure size 432x288 with 1 Axes>"
      ]
     },
     "metadata": {
      "needs_background": "light"
     },
     "output_type": "display_data"
    }
   ],
   "source": [
    "base_color = sb.color_palette()[0]\n",
    "sb.countplot(bikes_clean['month_name_start'], order=month_order, color=base_color);"
   ]
  },
  {
   "cell_type": "markdown",
   "metadata": {},
   "source": [
    "December is clearly the lowerst month during the year in terms of the number of bike rides.\n",
    "This is winter when people are less likely to jump on a bike, and also Holiday season when people who normally uses the service for commuting, are using the service less.\n",
    "\n",
    "We cal also see a big spike in March and April (early summer), and Aug-Sept-October (fall / late summer) making a bimodal distribution.\n",
    "It is interesting though that the usage rates are lower during summer. This might be explained by the numer of summer holidays.\n",
    "\n",
    "##### Rides over weekdays"
   ]
  },
  {
   "cell_type": "code",
   "execution_count": 34,
   "metadata": {},
   "outputs": [
    {
     "data": {
      "image/png": "[encoded data removed]",
      "text/plain": [
       "<Figure size 432x288 with 1 Axes>"
      ]
     },
     "metadata": {
      "needs_background": "light"
     },
     "output_type": "display_data"
    }
   ],
   "source": [
    "sb.countplot(bikes_clean['weekday_start'], order=weekday_order, color=base_color);"
   ]
  },
  {
   "cell_type": "markdown",
   "metadata": {},
   "source": [
    "Numbers are significantly lower during the weekend, this further reinforces the idea that most people is using the service for commuting.\n",
    "\n",
    "##### Rides over the hours of day"
   ]
  },
  {
   "cell_type": "code",
   "execution_count": 35,
   "metadata": {},
   "outputs": [
    {
     "data": {
      "image/png": "[encoded data removed]",
      "text/plain": [
       "<Figure size 432x288 with 1 Axes>"
      ]
     },
     "metadata": {
      "needs_background": "light"
     },
     "output_type": "display_data"
    }
   ],
   "source": [
    "sb.countplot(bikes_clean['hour_start'], color=base_color);"
   ]
  },
  {
   "cell_type": "markdown",
   "metadata": {},
   "source": [
    "We can observe two significant spikes during the early morning (7-8-9) and late afternoon (16-17-18) hours.\n",
    "This is the typical rush our of going to and coming from work.\n",
    "Between the two spikes the riding rates are much more modest, with minimal number of rides during dawn, and tailing off during the evening.\n",
    "\n",
    "The above visualization again reinforces the idea that most people is using the service for commuting"
   ]
  },
  {
   "cell_type": "markdown",
   "metadata": {},
   "source": [
    "### Discuss the distribution(s) of your variable(s) of interest. Were there any unusual points? Did you need to perform any transformations?\n",
    "\n",
    "**Roughly 80% of the users are fall into the Subscriber user group, while the rest of the users are Customers.**\n",
    "\n",
    "The distribution of the ride length is heavily right skewed with the majority of the points fall onto the left side of the x-axes with an extreme long tail to the left, so **I have applied log transformation on the ride length.**\n",
    "After the log transformation the disribution resembles a normal distribution. Going forward I'll use this log transformed version of the ride lengths for the rest of the visualizations.\n",
    "\n",
    "We can read both from the above histogram, and boxplot that the typical ride length falls slightly above 500sec.\n",
    "The majority of the rides falls between 250 and 900 seconds (4-10 minutes) any only a small portion exceeds 2000seconds (30 min)\n",
    "\n",
    "**This means, the average user uses the service for tipically short rides.**\n",
    "\n",
    "We can observ that the busy periods are the weekdays, especially during the morning and evening rush hours (forming a very clear bi-modal distribution).\n",
    "\n",
    "December has the lowest and the months before (March-April) and after summer (Aug-Oct-Sept) has the highest usage rates.\n",
    "\n",
    "\n",
    "**all the above suggests that most users are using the service for commuting to work**\n",
    "\n",
    "\n",
    "### Of the features you investigated, were there any unusual distributions? Did you perform any operations on the data to tidy, adjust, or change the form of the data? If so, why did you do this?\n",
    "\n",
    "I've applied log transformation on the ride duration, because the distribution was heavily right skewed with a very long tail to the right. It was difficult to observ the data and understand the denser areas without limiting the x-axis due to the outliers and small amount of long duration ride.\n",
    "\n",
    "After the transformation the data was much easier to observ and formed a shape more closer to normal.\n",
    "\n",
    "I've also calculated month, weekday and hour columns from the start time data to make the analysis easier.\n",
    "\n",
    "The date required some cleaning as well. Handling null values and using appropriate data types which was documented as part of the data wrangling process above."
   ]
  },
  {
   "cell_type": "markdown",
   "metadata": {},
   "source": [
    "## Bivariate Exploration\n",
    "\n",
    "> Let's look at the previous graphs, but split them into two parts by the user_type column\n",
    "\n",
    "##### distribution of the ride duration"
   ]
  },
  {
   "cell_type": "code",
   "execution_count": 36,
   "metadata": {},
   "outputs": [
    {
     "data": {
      "image/png": "[encoded data removed]",
      "text/plain": [
       "<Figure size 864x432 with 2 Axes>"
      ]
     },
     "metadata": {
      "needs_background": "light"
     },
     "output_type": "display_data"
    }
   ],
   "source": [
    "base_color= sb.color_palette()[0]\n",
    "g = sb.FacetGrid(data = bikes_clean, col = 'user_type', margin_titles = True, \n",
    "                 height=6, sharey=False)\n",
    "g.map(plt.hist, 'duration_sec', bins=1000).set(xscale = 'log')\n",
    "g.set_xticklabels(rotation=90)\n",
    "\n",
    "tick_locs = [100, 500, 1000, 5000, 10000, 50000]\n",
    "g.set(xticks = tick_locs, xticklabels = tick_locs);"
   ]
  },
  {
   "cell_type": "markdown",
   "metadata": {},
   "source": [
    "> Note that the two distribution does not share their Y-axes. The Subsriber groups distribution is reaching much higher.\n",
    "\n",
    "The sape of the two distributions are are similar, both have its mode around 500-700seconds, but Customer user type is more likely to take longer rides. It tail goes over the 10000second mark, while for the the Subscriber type it fades avay around 3500. Also the mode looks higer as well.\n",
    "\n",
    "Let's create a boxplot so that we can read these summary numbers about the distribution easier."
   ]
  },
  {
   "cell_type": "code",
   "execution_count": 37,
   "metadata": {},
   "outputs": [
    {
     "data": {
      "image/png": "[encoded data removed]",
      "text/plain": [
       "<Figure size 504x432 with 1 Axes>"
      ]
     },
     "metadata": {
      "needs_background": "light"
     },
     "output_type": "display_data"
    }
   ],
   "source": [
    "f, ax = plt.subplots(figsize=(7, 6))\n",
    "\n",
    "tick_locs = [100, 1000, 10000, 100000]\n",
    "ax.set_yscale(\"log\")\n",
    "sb.boxplot(x=bikes_clean['user_type'], y=bikes_clean['duration_sec'])\n",
    "plt.yticks(tick_locs, tick_locs);"
   ]
  },
  {
   "cell_type": "markdown",
   "metadata": {},
   "source": [
    "We can confirm our earlier observation. \n",
    "Both the median, and the complete interquartile range is higher for the customers than for the subscribers.\n",
    "\n",
    "> So subsribers tend to use the service for somewhat shorter periods than customers\n",
    "\n",
    "After understanding how the ride length differs for the two user types, lets look at how the rides are distributed accross different timeframes.\n",
    "\n",
    "### Time Distributions\n",
    "##### number of rides over months:"
   ]
  },
  {
   "cell_type": "code",
   "execution_count": 38,
   "metadata": {},
   "outputs": [
    {
     "data": {
      "image/png": "[encoded data removed]",
      "text/plain": [
       "<Figure size 864x432 with 2 Axes>"
      ]
     },
     "metadata": {
      "needs_background": "light"
     },
     "output_type": "display_data"
    }
   ],
   "source": [
    "base_color= sb.color_palette()[0]\n",
    "g = sb.FacetGrid(data = bikes_clean, col = 'user_type', margin_titles = True, height=6, sharey=False)\n",
    "g.map(sb.countplot, 'month_name_start', order=month_order)\n",
    "g.set_xticklabels(rotation=90);"
   ]
  },
  {
   "cell_type": "markdown",
   "metadata": {},
   "source": [
    "**The two distributions are different.**\n",
    "    \n",
    "        1) December has the lowest usage rates for the subscribers but this is the most popular month for the \n",
    "           customer user group.\n",
    "        2) Both distributions have peaks in the months before (March-April) and after (Aug-Sept-Oct) summer.\n",
    "        3) Other than the above two points the usage rate is balanced accross the year for the subscribers, \n",
    "           while it is left skewed for the customer user group, with heavier usage towards the year end.\n",
    " \n",
    "> The spikes and seasonality is much more pronounced in the customer group's chart, while the subsriber group's graph is more balanced.\n",
    "      \n",
    "##### number of rides over weekdays:"
   ]
  },
  {
   "cell_type": "code",
   "execution_count": 39,
   "metadata": {},
   "outputs": [
    {
     "data": {
      "image/png": "[encoded data removed]",
      "text/plain": [
       "<Figure size 864x432 with 2 Axes>"
      ]
     },
     "metadata": {
      "needs_background": "light"
     },
     "output_type": "display_data"
    }
   ],
   "source": [
    "base_color= sb.color_palette()[0]\n",
    "g = sb.FacetGrid(data = bikes_clean, col = 'user_type', margin_titles = True, height=6, sharey=False)\n",
    "g.map(sb.countplot, 'weekday_start', order=weekday_order)\n",
    "g.set_xticklabels(rotation=90);"
   ]
  },
  {
   "cell_type": "markdown",
   "metadata": {},
   "source": [
    "**There are again differences in the distributions**\n",
    "        \n",
    "        1) The usage for the customer group is the highest over the weekend (Fri-Sat), but very balanced overall\n",
    "        2) While there is a huge drop in the number of rides over the weekend for the Subscriber group\n",
    "        \n",
    "> the weekly usage for the subsribers is heavily focused towards the weekdays, while it is pretty balanced for the customers, with a light peak over the weekend.\n",
    "\n",
    "##### number of rides over the hours of the day:"
   ]
  },
  {
   "cell_type": "code",
   "execution_count": 40,
   "metadata": {},
   "outputs": [
    {
     "name": "stderr",
     "output_type": "stream",
     "text": [
      "C:\\ProgramData\\Miniconda3\\lib\\site-packages\\seaborn\\axisgrid.py:723: UserWarning: Using the countplot function without specifying `order` is likely to produce an incorrect plot.\n",
      "  warnings.warn(warning)\n"
     ]
    },
    {
     "data": {
      "image/png": "[encoded data removed]",
      "text/plain": [
       "<Figure size 864x432 with 2 Axes>"
      ]
     },
     "metadata": {
      "needs_background": "light"
     },
     "output_type": "display_data"
    }
   ],
   "source": [
    "base_color= sb.color_palette()[0]\n",
    "g = sb.FacetGrid(data = bikes_clean, col = 'user_type', margin_titles = True, height=6, sharey=False)\n",
    "g.map(sb.countplot, 'hour_start')\n",
    "g.set_xticklabels(rotation=90);"
   ]
  },
  {
   "cell_type": "markdown",
   "metadata": {},
   "source": [
    "Both distributions are bi-modal with peaks during the morning and evening rush hours, and share some similarities overall, but we can observe differences in the patterns as well.\n",
    "\n",
    "           1) The two modes of the subscriber's graph reaches exactly to the same height, while the morning mode for \n",
    "              the customer graph is significantly lower.\n",
    "           2) Between the two modes the usage rate for the subsribers fall heavily, while it is not so heavy for \n",
    "              the customers.\n",
    "              \n",
    "> Subsribers use the bike to commute to work, and back, while customers are using it during the day as well.\n",
    "\n",
    "### Let's summarize the above bar charts and histograms into one 2d histogram\n",
    "Let's create a heatmap between the usage rate of the weekdays and the hour of the days"
   ]
  },
  {
   "cell_type": "code",
   "execution_count": 41,
   "metadata": {},
   "outputs": [
    {
     "data": {
      "image/png": "[encoded data removed]",
      "text/plain": [
       "<Figure size 432x288 with 2 Axes>"
      ]
     },
     "metadata": {
      "needs_background": "light"
     },
     "output_type": "display_data"
    }
   ],
   "source": [
    "#First let's look at the heatmap for the Customer user group\n",
    "bikes_subs = bikes_clean.query('user_type == \"Customer\"')\n",
    "\n",
    "#Create the matrix for the heatmap between 'hour_start' and 'weekday_start' columns \n",
    "#with the counts of the rides as the values\n",
    "bikes_heat = pd.DataFrame(bikes_clean.groupby(['hour_start', 'weekday_start'])['duration_sec'].count()).reset_index()\n",
    "bikes_heat = bikes_heat.pivot(index='hour_start', columns='weekday_start')\n",
    "\n",
    "#map the matrix with seaborns heatmap function\n",
    "sb.heatmap(bikes_heat);"
   ]
  },
  {
   "cell_type": "code",
   "execution_count": 42,
   "metadata": {},
   "outputs": [
    {
     "data": {
      "image/png": "[encoded data removed]",
      "text/plain": [
       "<Figure size 432x288 with 2 Axes>"
      ]
     },
     "metadata": {
      "needs_background": "light"
     },
     "output_type": "display_data"
    }
   ],
   "source": [
    "#Now let's create the same for the Subscribers as well\n",
    "bikes_subs = bikes_clean.query('user_type != \"Customer\"')\n",
    "\n",
    "#Creating the same matrix for the subsribers subgroup\n",
    "bikes_subs = pd.DataFrame(bikes_subs.groupby(['hour_start', 'weekday_start'])['duration_sec'].count()).reset_index()\n",
    "bikes_subs = bikes_subs.pivot(index='hour_start', columns='weekday_start')\n",
    "\n",
    "#Plotting\n",
    "sb.heatmap(bikes_subs);"
   ]
  },
  {
   "cell_type": "markdown",
   "metadata": {},
   "source": [
    "The above heatmaps summarize the first 3 point below very well:\n",
    "\n",
    "    1) the subsriber group uses the service much more (note the difference in range on the colobar)\n",
    "\n",
    "    2) both groups uses the service during the morning and evening rush hours, but the drop in usage is more \n",
    "       proniunced between the peaks for the subscriber group.\n",
    "    \n",
    "    3) Usage rate over the weekend is higher for the customer group.\n",
    "    \n",
    "    4) We can't see this here, but we know from earlier that customers also tend to take longer rides and seasonality is \n",
    "       more pronounced in their usage patterns\n",
    "    \n",
    "Summarizing all this we can say:\n",
    "    \n",
    "   >Subsribers are mainly using the service for commute to work\n",
    "   \n",
    "   >There are much more casual, fun-riders and tourists among the customer user group\n",
    "   "
   ]
  },
  {
   "cell_type": "markdown",
   "metadata": {},
   "source": [
    "### Talk about some of the relationships you observed in this part of the investigation. How did the feature(s) of interest vary with other features in the dataset?\n",
    "\n",
    "> Introducing the user_group variable to the distributions revealed some further patterns, which lead to the conclusion that subsribers are mainly using the service for commute to work and there are much more casual, fun-riders and tourists among the customer user group\n",
    "\n",
    "### Did you observe any interesting relationships between the other features (not the main feature(s) of interest)?\n",
    "\n",
    "> "
   ]
  },
  {
   "cell_type": "markdown",
   "metadata": {},
   "source": [
    "## Multivariate Exploration\n",
    "\n",
    "> Create plots of three or more variables to investigate your data even\n",
    "further. Make sure that your investigations are justified, and follow from\n",
    "your work in the previous sections."
   ]
  },
  {
   "cell_type": "markdown",
   "metadata": {},
   "source": [
    "Let's look at whether there are any spatial relationship between the usage patterns of the two groups\n",
    "\n",
    "### Spatial relationships"
   ]
  },
  {
   "cell_type": "code",
   "execution_count": 51,
   "metadata": {},
   "outputs": [
    {
     "data": {
      "image/png": "[encoded data removed]",
      "text/plain": [
       "<Figure size 936x936 with 1 Axes>"
      ]
     },
     "metadata": {
      "needs_background": "light"
     },
     "output_type": "display_data"
    }
   ],
   "source": [
    "f, ax = plt.subplots(figsize=(13, 13))\n",
    "sb.scatterplot(data=bikes_clean.sample(100000, random_state=42), x = 'start_station_longitude', y = 'start_station_latitude', \n",
    "              s=100, alpha=0.5, hue='user_type');"
   ]
  },
  {
   "cell_type": "markdown",
   "metadata": {},
   "source": [
    ">The above pot had to be downsampled to avoid overplotting. Applying jitter and transparency was not enoungh to make the chart readable.\n",
    "\n",
    "It looks like that the left-most cluster has the most orange markers (customer group), but the difference is a bit hard to tell.\n",
    "\n",
    "But luckily the points form 3 very clear clsters, which we can separate in the data by reading the longitude values from the x axis of the chart.\n",
    "\n",
    "**Let's add an additional column to our database to separate the clusters**"
   ]
  },
  {
   "cell_type": "code",
   "execution_count": 44,
   "metadata": {},
   "outputs": [],
   "source": [
    "#Read boarders between the clusters from the above scatter plot\n",
    "border_1 = -122.45\n",
    "border_2 = -122.15\n",
    "\n",
    "#Create function that calculates which records falls into which area\n",
    "def split_area(x):\n",
    "    border_1 = -122.35\n",
    "    border_2 = -122.15\n",
    "    if x < border_1:\n",
    "        return 1\n",
    "    elif x < border_2:\n",
    "        return 2\n",
    "    else: return 3\n",
    "\n",
    "#create new column by applying the split_area() function created above\n",
    "bikes_clean['area'] = bikes_clean.start_station_longitude.apply(lambda x: split_area(x))"
   ]
  },
  {
   "cell_type": "code",
   "execution_count": 52,
   "metadata": {},
   "outputs": [
    {
     "data": {
      "image/png": "[encoded data removed]",
      "text/plain": [
       "<Figure size 936x936 with 1 Axes>"
      ]
     },
     "metadata": {
      "needs_background": "light"
     },
     "output_type": "display_data"
    }
   ],
   "source": [
    "#plotting the same scatter, now with hue on the new area column to see whether we separated the data correctly\n",
    "f, ax = plt.subplots(figsize=(13, 13))\n",
    "sb.scatterplot(data=bikes_clean.sample(100000, random_state=42), x = 'start_station_longitude', y = 'start_station_latitude', \n",
    "              s=100, alpha=0.5, hue='area');"
   ]
  },
  {
   "cell_type": "markdown",
   "metadata": {},
   "source": [
    "Let's look at whether there are any differences between usage rates of these areas"
   ]
  },
  {
   "cell_type": "code",
   "execution_count": 46,
   "metadata": {},
   "outputs": [
    {
     "data": {
      "image/png": "[encoded data removed]",
      "text/plain": [
       "<Figure size 1296x432 with 3 Axes>"
      ]
     },
     "metadata": {
      "needs_background": "light"
     },
     "output_type": "display_data"
    }
   ],
   "source": [
    "#Let's look at how the number of rides differ between the three areas\n",
    "g = sb.FacetGrid(data = bikes_clean, col = 'area', margin_titles = True, height=6, sharey=True)\n",
    "g.map(sb.countplot, 'weekday_start', order=weekday_order)\n",
    "g.set_xticklabels(rotation=90);"
   ]
  },
  {
   "cell_type": "markdown",
   "metadata": {},
   "source": [
    "We can see that there are hugde differences between the number of rides there. Area 1 takes by far the largest and area 3 the smallest amount of trips. Let's try to reveal some further differences by adding the user_group variable"
   ]
  },
  {
   "cell_type": "code",
   "execution_count": 47,
   "metadata": {},
   "outputs": [
    {
     "data": {
      "image/png": "[encoded data removed]",
      "text/plain": [
       "<Figure size 1296x864 with 6 Axes>"
      ]
     },
     "metadata": {
      "needs_background": "light"
     },
     "output_type": "display_data"
    }
   ],
   "source": [
    "base_color= sb.color_palette()[0]\n",
    "g = sb.FacetGrid(data = bikes_clean, col = 'area', row='user_type', margin_titles = True, height=6, sharey=False)\n",
    "g.map(sb.countplot, 'weekday_start', order=weekday_order)\n",
    "g.set_xticklabels(rotation=90);"
   ]
  },
  {
   "cell_type": "markdown",
   "metadata": {},
   "source": [
    "if we let each separat chart take it's own y-axes we can see that although the shapes of the distributions are similar in all three regions, area three a bit more popular over the weekend than the others... it might be more of a recreational area than the other two region"
   ]
  },
  {
   "cell_type": "code",
   "execution_count": 48,
   "metadata": {},
   "outputs": [
    {
     "data": {
      "image/png": "[encoded data removed]",
      "text/plain": [
       "<Figure size 432x288 with 1 Axes>"
      ]
     },
     "metadata": {
      "needs_background": "light"
     },
     "output_type": "display_data"
    }
   ],
   "source": [
    "ax = sb.boxplot(x=\"area\", y=\"duration_sec\", hue='user_type', data=bikes_clean)\n",
    "ax.set_yscale(\"log\")\n",
    "ax.yaxis.grid(True)\n",
    "tick_locs = [100, 300, 1000, 3000, 10000, 30000]\n",
    "plt.yticks(tick_locs, tick_locs);"
   ]
  },
  {
   "cell_type": "markdown",
   "metadata": {},
   "source": [
    "If we compare average ride durations between the three area and the user_groups we can see customers indeed taking longer trips typically, we can also see that the rides are even longer for the customers in this area, while they are shorter for the subscriber group than in area 1 or 2."
   ]
  },
  {
   "cell_type": "markdown",
   "metadata": {},
   "source": [
    "Finally let's look at the proportion of customers per region"
   ]
  },
  {
   "cell_type": "code",
   "execution_count": 49,
   "metadata": {},
   "outputs": [
    {
     "name": "stderr",
     "output_type": "stream",
     "text": [
      "C:\\ProgramData\\Miniconda3\\lib\\site-packages\\seaborn\\axisgrid.py:723: UserWarning: Using the countplot function without specifying `order` is likely to produce an incorrect plot.\n",
      "  warnings.warn(warning)\n"
     ]
    },
    {
     "data": {
      "image/png": "[encoded data removed]",
      "text/plain": [
       "<Figure size 1296x432 with 3 Axes>"
      ]
     },
     "metadata": {
      "needs_background": "light"
     },
     "output_type": "display_data"
    }
   ],
   "source": [
    "g = sb.FacetGrid(data = bikes_clean, col = 'area', margin_titles = True, height=6, sharey=False)\n",
    "g.map(sb.countplot, 'user_type')\n",
    "g.set_xticklabels(rotation=90);"
   ]
  },
  {
   "cell_type": "markdown",
   "metadata": {},
   "source": [
    "The proportion of customers is the smallest in area 3, counterin the idea that this being more recreational that the others"
   ]
  },
  {
   "cell_type": "markdown",
   "metadata": {},
   "source": [
    "### Talk about some of the relationships you observed in this part of the investigation. Were there features that strengthened each other in terms of looking at your feature(s) of interest?\n",
    "\n",
    "> During the multivaria analysis we reveled that there are three main area where the bike sharing system's stations are located. There are slight differences in the trip length and in the proportion of customers / subsribers, but the only significant variation can be observed between the number of rides between these areas.\n"
   ]
  },
  {
   "cell_type": "markdown",
   "metadata": {},
   "source": [
    "> At the end of your report, make sure that you export the notebook as an\n",
    "html file from the `File > Download as... > HTML` menu. Make sure you keep\n",
    "track of where the exported file goes, so you can put it in the same folder\n",
    "as this notebook for project submission. Also, make sure you remove all of\n",
    "the quote-formatted guide notes like this one before you finish your report!"
   ]
  },
  {
   "cell_type": "code",
   "execution_count": 50,
   "metadata": {},
   "outputs": [],
   "source": [
    "if False:\n",
    "    bikes_clean.to_csv('bike_clean.csv')"
   ]
  }
 ],
 "metadata": {
  "kernelspec": {
   "display_name": "Python 3",
   "language": "python",
   "name": "python3"
  },
  "language_info": {
   "codemirror_mode": {
    "name": "ipython",
    "version": 3
   },
   "file_extension": ".py",
   "mimetype": "text/x-python",
   "name": "python",
   "nbconvert_exporter": "python",
   "pygments_lexer": "ipython3",
   "version": "3.7.0"
  }
 },
 "nbformat": 4,
 "nbformat_minor": 2
}
